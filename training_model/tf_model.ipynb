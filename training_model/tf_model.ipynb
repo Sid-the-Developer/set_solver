{
 "cells": [
  {
   "cell_type": "markdown",
   "source": [
    "### Imports"
   ],
   "metadata": {
    "collapsed": false
   }
  },
  {
   "cell_type": "code",
   "execution_count": 4,
   "outputs": [],
   "source": [
    "import os\n",
    "from os import path\n",
    "from os.path import join, relpath\n",
    "import random\n",
    "\n",
    "import xml.etree.ElementTree as ET\n",
    "\n",
    "from tflite_model_maker import ExportFormat\n",
    "from tflite_model_maker import model_spec\n",
    "from tflite_model_maker import object_detector\n",
    "\n",
    "import tensorflow as tf\n",
    "tf.get_logger().setLevel('ERROR')\n",
    "from absl import logging\n",
    "logging.set_verbosity(logging.ERROR)\n",
    "\n",
    "import pandas as pd\n",
    "from sklearn.preprocessing import MultiLabelBinarizer"
   ],
   "metadata": {
    "collapsed": false,
    "ExecuteTime": {
     "end_time": "2023-10-04T14:35:03.476055100Z",
     "start_time": "2023-10-04T14:35:03.458153Z"
    }
   }
  },
  {
   "cell_type": "markdown",
   "source": [
    "### Helpful constants"
   ],
   "metadata": {
    "collapsed": false
   }
  },
  {
   "cell_type": "code",
   "execution_count": 5,
   "outputs": [],
   "source": [
    "colors = 'red','green','purple'\n",
    "nums = 'one','two','three'\n",
    "shades = 'empty','partial','full'\n",
    "shapes = 'diamond','oval','squiggle'\n",
    "label_names = [f'{num} {color} {shape} {shade}' for num in nums for color in colors for shape in shapes for shade in shades]"
   ],
   "metadata": {
    "collapsed": false,
    "ExecuteTime": {
     "end_time": "2023-10-04T14:35:05.229436600Z",
     "start_time": "2023-10-04T14:35:05.216436200Z"
    }
   }
  },
  {
   "cell_type": "markdown",
   "source": [
    "### Data formatting"
   ],
   "metadata": {
    "collapsed": false
   }
  },
  {
   "cell_type": "code",
   "execution_count": 3,
   "outputs": [
    {
     "data": {
      "text/plain": "                                           filepath class_color class_num  \\\n0           dataSET\\one\\green\\diamond\\empty\\101.png       green       one   \n1           dataSET\\one\\green\\diamond\\empty\\120.png       green       one   \n2           dataSET\\one\\green\\diamond\\empty\\172.png       green       one   \n3           dataSET\\one\\green\\diamond\\empty\\189.png       green       one   \n4             dataSET\\one\\green\\diamond\\empty\\2.png       green       one   \n5           dataSET\\one\\green\\diamond\\empty\\205.png       green       one   \n6           dataSET\\one\\green\\diamond\\empty\\222.png       green       one   \n7           dataSET\\one\\green\\diamond\\empty\\254.png       green       one   \n8           dataSET\\one\\green\\diamond\\empty\\286.png       green       one   \n9            dataSET\\one\\green\\diamond\\empty\\31.png       green       one   \n10          dataSET\\one\\green\\diamond\\empty\\325.png       green       one   \n11          dataSET\\one\\green\\diamond\\empty\\381.png       green       one   \n12            dataSET\\one\\green\\diamond\\empty\\4.png       green       one   \n13          dataSET\\one\\green\\diamond\\empty\\452.png       green       one   \n14          dataSET\\one\\green\\diamond\\empty\\494.png       green       one   \n15          dataSET\\one\\green\\diamond\\empty\\513.png       green       one   \n16          dataSET\\one\\green\\diamond\\empty\\585.png       green       one   \n17           dataSET\\one\\green\\diamond\\empty\\65.png       green       one   \n18           dataSET\\one\\green\\diamond\\empty\\74.png       green       one   \n19     dataSET\\one\\green\\diamond\\empty\\old (16).png       green       one   \n20  dataSET\\one\\green\\diamond\\empty\\tytyt (122).png       green       one   \n21  dataSET\\one\\green\\diamond\\empty\\tytyt (198).png       green       one   \n22   dataSET\\one\\green\\diamond\\empty\\tytyt (62).png       green       one   \n23        dataSET\\one\\green\\diamond\\empty\\z (5).png       green       one   \n24           dataSET\\one\\green\\diamond\\full\\148.png       green       one   \n25           dataSET\\one\\green\\diamond\\full\\169.png       green       one   \n26           dataSET\\one\\green\\diamond\\full\\171.png       green       one   \n27           dataSET\\one\\green\\diamond\\full\\173.png       green       one   \n28           dataSET\\one\\green\\diamond\\full\\188.png       green       one   \n29            dataSET\\one\\green\\diamond\\full\\21.png       green       one   \n30           dataSET\\one\\green\\diamond\\full\\215.png       green       one   \n31           dataSET\\one\\green\\diamond\\full\\279.png       green       one   \n32            dataSET\\one\\green\\diamond\\full\\28.png       green       one   \n33           dataSET\\one\\green\\diamond\\full\\299.png       green       one   \n34           dataSET\\one\\green\\diamond\\full\\339.png       green       one   \n35            dataSET\\one\\green\\diamond\\full\\34.png       green       one   \n36           dataSET\\one\\green\\diamond\\full\\357.png       green       one   \n37            dataSET\\one\\green\\diamond\\full\\40.png       green       one   \n38           dataSET\\one\\green\\diamond\\full\\405.png       green       one   \n39             dataSET\\one\\green\\diamond\\full\\5.png       green       one   \n40           dataSET\\one\\green\\diamond\\full\\505.png       green       one   \n41           dataSET\\one\\green\\diamond\\full\\566.png       green       one   \n42            dataSET\\one\\green\\diamond\\full\\66.png       green       one   \n43      dataSET\\one\\green\\diamond\\full\\old (87).png       green       one   \n44   dataSET\\one\\green\\diamond\\full\\tytyt (208).png       green       one   \n45   dataSET\\one\\green\\diamond\\full\\tytyt (248).png       green       one   \n46    dataSET\\one\\green\\diamond\\full\\tytyt (36).png       green       one   \n47     dataSET\\one\\green\\diamond\\full\\tytyt (9).png       green       one   \n48        dataSET\\one\\green\\diamond\\partial\\115.png       green       one   \n49        dataSET\\one\\green\\diamond\\partial\\188.png       green       one   \n\n   class_shape class_shade  \n0      diamond       empty  \n1      diamond       empty  \n2      diamond       empty  \n3      diamond       empty  \n4      diamond       empty  \n5      diamond       empty  \n6      diamond       empty  \n7      diamond       empty  \n8      diamond       empty  \n9      diamond       empty  \n10     diamond       empty  \n11     diamond       empty  \n12     diamond       empty  \n13     diamond       empty  \n14     diamond       empty  \n15     diamond       empty  \n16     diamond       empty  \n17     diamond       empty  \n18     diamond       empty  \n19     diamond       empty  \n20     diamond       empty  \n21     diamond       empty  \n22     diamond       empty  \n23     diamond       empty  \n24     diamond        full  \n25     diamond        full  \n26     diamond        full  \n27     diamond        full  \n28     diamond        full  \n29     diamond        full  \n30     diamond        full  \n31     diamond        full  \n32     diamond        full  \n33     diamond        full  \n34     diamond        full  \n35     diamond        full  \n36     diamond        full  \n37     diamond        full  \n38     diamond        full  \n39     diamond        full  \n40     diamond        full  \n41     diamond        full  \n42     diamond        full  \n43     diamond        full  \n44     diamond        full  \n45     diamond        full  \n46     diamond        full  \n47     diamond        full  \n48     diamond     partial  \n49     diamond     partial  ",
      "text/html": "<div>\n<style scoped>\n    .dataframe tbody tr th:only-of-type {\n        vertical-align: middle;\n    }\n\n    .dataframe tbody tr th {\n        vertical-align: top;\n    }\n\n    .dataframe thead th {\n        text-align: right;\n    }\n</style>\n<table border=\"1\" class=\"dataframe\">\n  <thead>\n    <tr style=\"text-align: right;\">\n      <th></th>\n      <th>filepath</th>\n      <th>class_color</th>\n      <th>class_num</th>\n      <th>class_shape</th>\n      <th>class_shade</th>\n    </tr>\n  </thead>\n  <tbody>\n    <tr>\n      <th>0</th>\n      <td>dataSET\\one\\green\\diamond\\empty\\101.png</td>\n      <td>green</td>\n      <td>one</td>\n      <td>diamond</td>\n      <td>empty</td>\n    </tr>\n    <tr>\n      <th>1</th>\n      <td>dataSET\\one\\green\\diamond\\empty\\120.png</td>\n      <td>green</td>\n      <td>one</td>\n      <td>diamond</td>\n      <td>empty</td>\n    </tr>\n    <tr>\n      <th>2</th>\n      <td>dataSET\\one\\green\\diamond\\empty\\172.png</td>\n      <td>green</td>\n      <td>one</td>\n      <td>diamond</td>\n      <td>empty</td>\n    </tr>\n    <tr>\n      <th>3</th>\n      <td>dataSET\\one\\green\\diamond\\empty\\189.png</td>\n      <td>green</td>\n      <td>one</td>\n      <td>diamond</td>\n      <td>empty</td>\n    </tr>\n    <tr>\n      <th>4</th>\n      <td>dataSET\\one\\green\\diamond\\empty\\2.png</td>\n      <td>green</td>\n      <td>one</td>\n      <td>diamond</td>\n      <td>empty</td>\n    </tr>\n    <tr>\n      <th>5</th>\n      <td>dataSET\\one\\green\\diamond\\empty\\205.png</td>\n      <td>green</td>\n      <td>one</td>\n      <td>diamond</td>\n      <td>empty</td>\n    </tr>\n    <tr>\n      <th>6</th>\n      <td>dataSET\\one\\green\\diamond\\empty\\222.png</td>\n      <td>green</td>\n      <td>one</td>\n      <td>diamond</td>\n      <td>empty</td>\n    </tr>\n    <tr>\n      <th>7</th>\n      <td>dataSET\\one\\green\\diamond\\empty\\254.png</td>\n      <td>green</td>\n      <td>one</td>\n      <td>diamond</td>\n      <td>empty</td>\n    </tr>\n    <tr>\n      <th>8</th>\n      <td>dataSET\\one\\green\\diamond\\empty\\286.png</td>\n      <td>green</td>\n      <td>one</td>\n      <td>diamond</td>\n      <td>empty</td>\n    </tr>\n    <tr>\n      <th>9</th>\n      <td>dataSET\\one\\green\\diamond\\empty\\31.png</td>\n      <td>green</td>\n      <td>one</td>\n      <td>diamond</td>\n      <td>empty</td>\n    </tr>\n    <tr>\n      <th>10</th>\n      <td>dataSET\\one\\green\\diamond\\empty\\325.png</td>\n      <td>green</td>\n      <td>one</td>\n      <td>diamond</td>\n      <td>empty</td>\n    </tr>\n    <tr>\n      <th>11</th>\n      <td>dataSET\\one\\green\\diamond\\empty\\381.png</td>\n      <td>green</td>\n      <td>one</td>\n      <td>diamond</td>\n      <td>empty</td>\n    </tr>\n    <tr>\n      <th>12</th>\n      <td>dataSET\\one\\green\\diamond\\empty\\4.png</td>\n      <td>green</td>\n      <td>one</td>\n      <td>diamond</td>\n      <td>empty</td>\n    </tr>\n    <tr>\n      <th>13</th>\n      <td>dataSET\\one\\green\\diamond\\empty\\452.png</td>\n      <td>green</td>\n      <td>one</td>\n      <td>diamond</td>\n      <td>empty</td>\n    </tr>\n    <tr>\n      <th>14</th>\n      <td>dataSET\\one\\green\\diamond\\empty\\494.png</td>\n      <td>green</td>\n      <td>one</td>\n      <td>diamond</td>\n      <td>empty</td>\n    </tr>\n    <tr>\n      <th>15</th>\n      <td>dataSET\\one\\green\\diamond\\empty\\513.png</td>\n      <td>green</td>\n      <td>one</td>\n      <td>diamond</td>\n      <td>empty</td>\n    </tr>\n    <tr>\n      <th>16</th>\n      <td>dataSET\\one\\green\\diamond\\empty\\585.png</td>\n      <td>green</td>\n      <td>one</td>\n      <td>diamond</td>\n      <td>empty</td>\n    </tr>\n    <tr>\n      <th>17</th>\n      <td>dataSET\\one\\green\\diamond\\empty\\65.png</td>\n      <td>green</td>\n      <td>one</td>\n      <td>diamond</td>\n      <td>empty</td>\n    </tr>\n    <tr>\n      <th>18</th>\n      <td>dataSET\\one\\green\\diamond\\empty\\74.png</td>\n      <td>green</td>\n      <td>one</td>\n      <td>diamond</td>\n      <td>empty</td>\n    </tr>\n    <tr>\n      <th>19</th>\n      <td>dataSET\\one\\green\\diamond\\empty\\old (16).png</td>\n      <td>green</td>\n      <td>one</td>\n      <td>diamond</td>\n      <td>empty</td>\n    </tr>\n    <tr>\n      <th>20</th>\n      <td>dataSET\\one\\green\\diamond\\empty\\tytyt (122).png</td>\n      <td>green</td>\n      <td>one</td>\n      <td>diamond</td>\n      <td>empty</td>\n    </tr>\n    <tr>\n      <th>21</th>\n      <td>dataSET\\one\\green\\diamond\\empty\\tytyt (198).png</td>\n      <td>green</td>\n      <td>one</td>\n      <td>diamond</td>\n      <td>empty</td>\n    </tr>\n    <tr>\n      <th>22</th>\n      <td>dataSET\\one\\green\\diamond\\empty\\tytyt (62).png</td>\n      <td>green</td>\n      <td>one</td>\n      <td>diamond</td>\n      <td>empty</td>\n    </tr>\n    <tr>\n      <th>23</th>\n      <td>dataSET\\one\\green\\diamond\\empty\\z (5).png</td>\n      <td>green</td>\n      <td>one</td>\n      <td>diamond</td>\n      <td>empty</td>\n    </tr>\n    <tr>\n      <th>24</th>\n      <td>dataSET\\one\\green\\diamond\\full\\148.png</td>\n      <td>green</td>\n      <td>one</td>\n      <td>diamond</td>\n      <td>full</td>\n    </tr>\n    <tr>\n      <th>25</th>\n      <td>dataSET\\one\\green\\diamond\\full\\169.png</td>\n      <td>green</td>\n      <td>one</td>\n      <td>diamond</td>\n      <td>full</td>\n    </tr>\n    <tr>\n      <th>26</th>\n      <td>dataSET\\one\\green\\diamond\\full\\171.png</td>\n      <td>green</td>\n      <td>one</td>\n      <td>diamond</td>\n      <td>full</td>\n    </tr>\n    <tr>\n      <th>27</th>\n      <td>dataSET\\one\\green\\diamond\\full\\173.png</td>\n      <td>green</td>\n      <td>one</td>\n      <td>diamond</td>\n      <td>full</td>\n    </tr>\n    <tr>\n      <th>28</th>\n      <td>dataSET\\one\\green\\diamond\\full\\188.png</td>\n      <td>green</td>\n      <td>one</td>\n      <td>diamond</td>\n      <td>full</td>\n    </tr>\n    <tr>\n      <th>29</th>\n      <td>dataSET\\one\\green\\diamond\\full\\21.png</td>\n      <td>green</td>\n      <td>one</td>\n      <td>diamond</td>\n      <td>full</td>\n    </tr>\n    <tr>\n      <th>30</th>\n      <td>dataSET\\one\\green\\diamond\\full\\215.png</td>\n      <td>green</td>\n      <td>one</td>\n      <td>diamond</td>\n      <td>full</td>\n    </tr>\n    <tr>\n      <th>31</th>\n      <td>dataSET\\one\\green\\diamond\\full\\279.png</td>\n      <td>green</td>\n      <td>one</td>\n      <td>diamond</td>\n      <td>full</td>\n    </tr>\n    <tr>\n      <th>32</th>\n      <td>dataSET\\one\\green\\diamond\\full\\28.png</td>\n      <td>green</td>\n      <td>one</td>\n      <td>diamond</td>\n      <td>full</td>\n    </tr>\n    <tr>\n      <th>33</th>\n      <td>dataSET\\one\\green\\diamond\\full\\299.png</td>\n      <td>green</td>\n      <td>one</td>\n      <td>diamond</td>\n      <td>full</td>\n    </tr>\n    <tr>\n      <th>34</th>\n      <td>dataSET\\one\\green\\diamond\\full\\339.png</td>\n      <td>green</td>\n      <td>one</td>\n      <td>diamond</td>\n      <td>full</td>\n    </tr>\n    <tr>\n      <th>35</th>\n      <td>dataSET\\one\\green\\diamond\\full\\34.png</td>\n      <td>green</td>\n      <td>one</td>\n      <td>diamond</td>\n      <td>full</td>\n    </tr>\n    <tr>\n      <th>36</th>\n      <td>dataSET\\one\\green\\diamond\\full\\357.png</td>\n      <td>green</td>\n      <td>one</td>\n      <td>diamond</td>\n      <td>full</td>\n    </tr>\n    <tr>\n      <th>37</th>\n      <td>dataSET\\one\\green\\diamond\\full\\40.png</td>\n      <td>green</td>\n      <td>one</td>\n      <td>diamond</td>\n      <td>full</td>\n    </tr>\n    <tr>\n      <th>38</th>\n      <td>dataSET\\one\\green\\diamond\\full\\405.png</td>\n      <td>green</td>\n      <td>one</td>\n      <td>diamond</td>\n      <td>full</td>\n    </tr>\n    <tr>\n      <th>39</th>\n      <td>dataSET\\one\\green\\diamond\\full\\5.png</td>\n      <td>green</td>\n      <td>one</td>\n      <td>diamond</td>\n      <td>full</td>\n    </tr>\n    <tr>\n      <th>40</th>\n      <td>dataSET\\one\\green\\diamond\\full\\505.png</td>\n      <td>green</td>\n      <td>one</td>\n      <td>diamond</td>\n      <td>full</td>\n    </tr>\n    <tr>\n      <th>41</th>\n      <td>dataSET\\one\\green\\diamond\\full\\566.png</td>\n      <td>green</td>\n      <td>one</td>\n      <td>diamond</td>\n      <td>full</td>\n    </tr>\n    <tr>\n      <th>42</th>\n      <td>dataSET\\one\\green\\diamond\\full\\66.png</td>\n      <td>green</td>\n      <td>one</td>\n      <td>diamond</td>\n      <td>full</td>\n    </tr>\n    <tr>\n      <th>43</th>\n      <td>dataSET\\one\\green\\diamond\\full\\old (87).png</td>\n      <td>green</td>\n      <td>one</td>\n      <td>diamond</td>\n      <td>full</td>\n    </tr>\n    <tr>\n      <th>44</th>\n      <td>dataSET\\one\\green\\diamond\\full\\tytyt (208).png</td>\n      <td>green</td>\n      <td>one</td>\n      <td>diamond</td>\n      <td>full</td>\n    </tr>\n    <tr>\n      <th>45</th>\n      <td>dataSET\\one\\green\\diamond\\full\\tytyt (248).png</td>\n      <td>green</td>\n      <td>one</td>\n      <td>diamond</td>\n      <td>full</td>\n    </tr>\n    <tr>\n      <th>46</th>\n      <td>dataSET\\one\\green\\diamond\\full\\tytyt (36).png</td>\n      <td>green</td>\n      <td>one</td>\n      <td>diamond</td>\n      <td>full</td>\n    </tr>\n    <tr>\n      <th>47</th>\n      <td>dataSET\\one\\green\\diamond\\full\\tytyt (9).png</td>\n      <td>green</td>\n      <td>one</td>\n      <td>diamond</td>\n      <td>full</td>\n    </tr>\n    <tr>\n      <th>48</th>\n      <td>dataSET\\one\\green\\diamond\\partial\\115.png</td>\n      <td>green</td>\n      <td>one</td>\n      <td>diamond</td>\n      <td>partial</td>\n    </tr>\n    <tr>\n      <th>49</th>\n      <td>dataSET\\one\\green\\diamond\\partial\\188.png</td>\n      <td>green</td>\n      <td>one</td>\n      <td>diamond</td>\n      <td>partial</td>\n    </tr>\n  </tbody>\n</table>\n</div>"
     },
     "metadata": {},
     "output_type": "display_data"
    }
   ],
   "source": [
    "def get_set(path):\n",
    "    data = pd.DataFrame(columns=['filepath', 'class_color', 'class_num', 'class_shape', 'class_shade'])\n",
    "    for dirpath, subdirs, files in os.walk(path):\n",
    "        for file in files:\n",
    "            filepath = relpath(join(dirpath, file))\n",
    "            strpath = str(filepath).split('\\\\')\n",
    "            class_num = strpath[-5]\n",
    "            class_color = strpath[-4]\n",
    "            class_shape = strpath[-3]\n",
    "            class_shade = strpath[-2]\n",
    "            row = pd.DataFrame({'filepath': filepath,\n",
    "                             'class_color': class_color,\n",
    "                             'class_num': class_num,\n",
    "                             'class_shape': class_shape,\n",
    "                             'class_shade': class_shade},\n",
    "                               columns=['filepath', 'class_color', 'class_num', 'class_shape', 'class_shade'],\n",
    "                               index=[0])\n",
    "            data = pd.concat([data, row], ignore_index=True)\n",
    "    return data\n",
    "\n",
    "data_panda = get_set('./dataSET')\n",
    "display(data_panda.head(50))"
   ],
   "metadata": {
    "collapsed": false,
    "ExecuteTime": {
     "start_time": "2023-10-04T04:32:20.156264500Z"
    }
   }
  },
  {
   "cell_type": "code",
   "execution_count": 5,
   "outputs": [
    {
     "data": {
      "text/plain": "                                           filepath  red  green  purple  one  \\\n0           dataSET\\one\\green\\diamond\\empty\\101.png    0      1       0    1   \n1           dataSET\\one\\green\\diamond\\empty\\120.png    0      1       0    1   \n2           dataSET\\one\\green\\diamond\\empty\\172.png    0      1       0    1   \n3           dataSET\\one\\green\\diamond\\empty\\189.png    0      1       0    1   \n4             dataSET\\one\\green\\diamond\\empty\\2.png    0      1       0    1   \n5           dataSET\\one\\green\\diamond\\empty\\205.png    0      1       0    1   \n6           dataSET\\one\\green\\diamond\\empty\\222.png    0      1       0    1   \n7           dataSET\\one\\green\\diamond\\empty\\254.png    0      1       0    1   \n8           dataSET\\one\\green\\diamond\\empty\\286.png    0      1       0    1   \n9            dataSET\\one\\green\\diamond\\empty\\31.png    0      1       0    1   \n10          dataSET\\one\\green\\diamond\\empty\\325.png    0      1       0    1   \n11          dataSET\\one\\green\\diamond\\empty\\381.png    0      1       0    1   \n12            dataSET\\one\\green\\diamond\\empty\\4.png    0      1       0    1   \n13          dataSET\\one\\green\\diamond\\empty\\452.png    0      1       0    1   \n14          dataSET\\one\\green\\diamond\\empty\\494.png    0      1       0    1   \n15          dataSET\\one\\green\\diamond\\empty\\513.png    0      1       0    1   \n16          dataSET\\one\\green\\diamond\\empty\\585.png    0      1       0    1   \n17           dataSET\\one\\green\\diamond\\empty\\65.png    0      1       0    1   \n18           dataSET\\one\\green\\diamond\\empty\\74.png    0      1       0    1   \n19     dataSET\\one\\green\\diamond\\empty\\old (16).png    0      1       0    1   \n20  dataSET\\one\\green\\diamond\\empty\\tytyt (122).png    0      1       0    1   \n21  dataSET\\one\\green\\diamond\\empty\\tytyt (198).png    0      1       0    1   \n22   dataSET\\one\\green\\diamond\\empty\\tytyt (62).png    0      1       0    1   \n23        dataSET\\one\\green\\diamond\\empty\\z (5).png    0      1       0    1   \n24           dataSET\\one\\green\\diamond\\full\\148.png    0      1       0    1   \n25           dataSET\\one\\green\\diamond\\full\\169.png    0      1       0    1   \n26           dataSET\\one\\green\\diamond\\full\\171.png    0      1       0    1   \n27           dataSET\\one\\green\\diamond\\full\\173.png    0      1       0    1   \n28           dataSET\\one\\green\\diamond\\full\\188.png    0      1       0    1   \n29            dataSET\\one\\green\\diamond\\full\\21.png    0      1       0    1   \n30           dataSET\\one\\green\\diamond\\full\\215.png    0      1       0    1   \n31           dataSET\\one\\green\\diamond\\full\\279.png    0      1       0    1   \n32            dataSET\\one\\green\\diamond\\full\\28.png    0      1       0    1   \n33           dataSET\\one\\green\\diamond\\full\\299.png    0      1       0    1   \n34           dataSET\\one\\green\\diamond\\full\\339.png    0      1       0    1   \n35            dataSET\\one\\green\\diamond\\full\\34.png    0      1       0    1   \n36           dataSET\\one\\green\\diamond\\full\\357.png    0      1       0    1   \n37            dataSET\\one\\green\\diamond\\full\\40.png    0      1       0    1   \n38           dataSET\\one\\green\\diamond\\full\\405.png    0      1       0    1   \n39             dataSET\\one\\green\\diamond\\full\\5.png    0      1       0    1   \n40           dataSET\\one\\green\\diamond\\full\\505.png    0      1       0    1   \n41           dataSET\\one\\green\\diamond\\full\\566.png    0      1       0    1   \n42            dataSET\\one\\green\\diamond\\full\\66.png    0      1       0    1   \n43      dataSET\\one\\green\\diamond\\full\\old (87).png    0      1       0    1   \n44   dataSET\\one\\green\\diamond\\full\\tytyt (208).png    0      1       0    1   \n45   dataSET\\one\\green\\diamond\\full\\tytyt (248).png    0      1       0    1   \n46    dataSET\\one\\green\\diamond\\full\\tytyt (36).png    0      1       0    1   \n47     dataSET\\one\\green\\diamond\\full\\tytyt (9).png    0      1       0    1   \n48        dataSET\\one\\green\\diamond\\partial\\115.png    0      1       0    1   \n49        dataSET\\one\\green\\diamond\\partial\\188.png    0      1       0    1   \n\n    two  three  empty  partial  full  diamond  oval  squiggle  \n0     0      0      1        0     0        1     0         0  \n1     0      0      1        0     0        1     0         0  \n2     0      0      1        0     0        1     0         0  \n3     0      0      1        0     0        1     0         0  \n4     0      0      1        0     0        1     0         0  \n5     0      0      1        0     0        1     0         0  \n6     0      0      1        0     0        1     0         0  \n7     0      0      1        0     0        1     0         0  \n8     0      0      1        0     0        1     0         0  \n9     0      0      1        0     0        1     0         0  \n10    0      0      1        0     0        1     0         0  \n11    0      0      1        0     0        1     0         0  \n12    0      0      1        0     0        1     0         0  \n13    0      0      1        0     0        1     0         0  \n14    0      0      1        0     0        1     0         0  \n15    0      0      1        0     0        1     0         0  \n16    0      0      1        0     0        1     0         0  \n17    0      0      1        0     0        1     0         0  \n18    0      0      1        0     0        1     0         0  \n19    0      0      1        0     0        1     0         0  \n20    0      0      1        0     0        1     0         0  \n21    0      0      1        0     0        1     0         0  \n22    0      0      1        0     0        1     0         0  \n23    0      0      1        0     0        1     0         0  \n24    0      0      0        0     1        1     0         0  \n25    0      0      0        0     1        1     0         0  \n26    0      0      0        0     1        1     0         0  \n27    0      0      0        0     1        1     0         0  \n28    0      0      0        0     1        1     0         0  \n29    0      0      0        0     1        1     0         0  \n30    0      0      0        0     1        1     0         0  \n31    0      0      0        0     1        1     0         0  \n32    0      0      0        0     1        1     0         0  \n33    0      0      0        0     1        1     0         0  \n34    0      0      0        0     1        1     0         0  \n35    0      0      0        0     1        1     0         0  \n36    0      0      0        0     1        1     0         0  \n37    0      0      0        0     1        1     0         0  \n38    0      0      0        0     1        1     0         0  \n39    0      0      0        0     1        1     0         0  \n40    0      0      0        0     1        1     0         0  \n41    0      0      0        0     1        1     0         0  \n42    0      0      0        0     1        1     0         0  \n43    0      0      0        0     1        1     0         0  \n44    0      0      0        0     1        1     0         0  \n45    0      0      0        0     1        1     0         0  \n46    0      0      0        0     1        1     0         0  \n47    0      0      0        0     1        1     0         0  \n48    0      0      0        1     0        1     0         0  \n49    0      0      0        1     0        1     0         0  ",
      "text/html": "<div>\n<style scoped>\n    .dataframe tbody tr th:only-of-type {\n        vertical-align: middle;\n    }\n\n    .dataframe tbody tr th {\n        vertical-align: top;\n    }\n\n    .dataframe thead th {\n        text-align: right;\n    }\n</style>\n<table border=\"1\" class=\"dataframe\">\n  <thead>\n    <tr style=\"text-align: right;\">\n      <th></th>\n      <th>filepath</th>\n      <th>red</th>\n      <th>green</th>\n      <th>purple</th>\n      <th>one</th>\n      <th>two</th>\n      <th>three</th>\n      <th>empty</th>\n      <th>partial</th>\n      <th>full</th>\n      <th>diamond</th>\n      <th>oval</th>\n      <th>squiggle</th>\n    </tr>\n  </thead>\n  <tbody>\n    <tr>\n      <th>0</th>\n      <td>dataSET\\one\\green\\diamond\\empty\\101.png</td>\n      <td>0</td>\n      <td>1</td>\n      <td>0</td>\n      <td>1</td>\n      <td>0</td>\n      <td>0</td>\n      <td>1</td>\n      <td>0</td>\n      <td>0</td>\n      <td>1</td>\n      <td>0</td>\n      <td>0</td>\n    </tr>\n    <tr>\n      <th>1</th>\n      <td>dataSET\\one\\green\\diamond\\empty\\120.png</td>\n      <td>0</td>\n      <td>1</td>\n      <td>0</td>\n      <td>1</td>\n      <td>0</td>\n      <td>0</td>\n      <td>1</td>\n      <td>0</td>\n      <td>0</td>\n      <td>1</td>\n      <td>0</td>\n      <td>0</td>\n    </tr>\n    <tr>\n      <th>2</th>\n      <td>dataSET\\one\\green\\diamond\\empty\\172.png</td>\n      <td>0</td>\n      <td>1</td>\n      <td>0</td>\n      <td>1</td>\n      <td>0</td>\n      <td>0</td>\n      <td>1</td>\n      <td>0</td>\n      <td>0</td>\n      <td>1</td>\n      <td>0</td>\n      <td>0</td>\n    </tr>\n    <tr>\n      <th>3</th>\n      <td>dataSET\\one\\green\\diamond\\empty\\189.png</td>\n      <td>0</td>\n      <td>1</td>\n      <td>0</td>\n      <td>1</td>\n      <td>0</td>\n      <td>0</td>\n      <td>1</td>\n      <td>0</td>\n      <td>0</td>\n      <td>1</td>\n      <td>0</td>\n      <td>0</td>\n    </tr>\n    <tr>\n      <th>4</th>\n      <td>dataSET\\one\\green\\diamond\\empty\\2.png</td>\n      <td>0</td>\n      <td>1</td>\n      <td>0</td>\n      <td>1</td>\n      <td>0</td>\n      <td>0</td>\n      <td>1</td>\n      <td>0</td>\n      <td>0</td>\n      <td>1</td>\n      <td>0</td>\n      <td>0</td>\n    </tr>\n    <tr>\n      <th>5</th>\n      <td>dataSET\\one\\green\\diamond\\empty\\205.png</td>\n      <td>0</td>\n      <td>1</td>\n      <td>0</td>\n      <td>1</td>\n      <td>0</td>\n      <td>0</td>\n      <td>1</td>\n      <td>0</td>\n      <td>0</td>\n      <td>1</td>\n      <td>0</td>\n      <td>0</td>\n    </tr>\n    <tr>\n      <th>6</th>\n      <td>dataSET\\one\\green\\diamond\\empty\\222.png</td>\n      <td>0</td>\n      <td>1</td>\n      <td>0</td>\n      <td>1</td>\n      <td>0</td>\n      <td>0</td>\n      <td>1</td>\n      <td>0</td>\n      <td>0</td>\n      <td>1</td>\n      <td>0</td>\n      <td>0</td>\n    </tr>\n    <tr>\n      <th>7</th>\n      <td>dataSET\\one\\green\\diamond\\empty\\254.png</td>\n      <td>0</td>\n      <td>1</td>\n      <td>0</td>\n      <td>1</td>\n      <td>0</td>\n      <td>0</td>\n      <td>1</td>\n      <td>0</td>\n      <td>0</td>\n      <td>1</td>\n      <td>0</td>\n      <td>0</td>\n    </tr>\n    <tr>\n      <th>8</th>\n      <td>dataSET\\one\\green\\diamond\\empty\\286.png</td>\n      <td>0</td>\n      <td>1</td>\n      <td>0</td>\n      <td>1</td>\n      <td>0</td>\n      <td>0</td>\n      <td>1</td>\n      <td>0</td>\n      <td>0</td>\n      <td>1</td>\n      <td>0</td>\n      <td>0</td>\n    </tr>\n    <tr>\n      <th>9</th>\n      <td>dataSET\\one\\green\\diamond\\empty\\31.png</td>\n      <td>0</td>\n      <td>1</td>\n      <td>0</td>\n      <td>1</td>\n      <td>0</td>\n      <td>0</td>\n      <td>1</td>\n      <td>0</td>\n      <td>0</td>\n      <td>1</td>\n      <td>0</td>\n      <td>0</td>\n    </tr>\n    <tr>\n      <th>10</th>\n      <td>dataSET\\one\\green\\diamond\\empty\\325.png</td>\n      <td>0</td>\n      <td>1</td>\n      <td>0</td>\n      <td>1</td>\n      <td>0</td>\n      <td>0</td>\n      <td>1</td>\n      <td>0</td>\n      <td>0</td>\n      <td>1</td>\n      <td>0</td>\n      <td>0</td>\n    </tr>\n    <tr>\n      <th>11</th>\n      <td>dataSET\\one\\green\\diamond\\empty\\381.png</td>\n      <td>0</td>\n      <td>1</td>\n      <td>0</td>\n      <td>1</td>\n      <td>0</td>\n      <td>0</td>\n      <td>1</td>\n      <td>0</td>\n      <td>0</td>\n      <td>1</td>\n      <td>0</td>\n      <td>0</td>\n    </tr>\n    <tr>\n      <th>12</th>\n      <td>dataSET\\one\\green\\diamond\\empty\\4.png</td>\n      <td>0</td>\n      <td>1</td>\n      <td>0</td>\n      <td>1</td>\n      <td>0</td>\n      <td>0</td>\n      <td>1</td>\n      <td>0</td>\n      <td>0</td>\n      <td>1</td>\n      <td>0</td>\n      <td>0</td>\n    </tr>\n    <tr>\n      <th>13</th>\n      <td>dataSET\\one\\green\\diamond\\empty\\452.png</td>\n      <td>0</td>\n      <td>1</td>\n      <td>0</td>\n      <td>1</td>\n      <td>0</td>\n      <td>0</td>\n      <td>1</td>\n      <td>0</td>\n      <td>0</td>\n      <td>1</td>\n      <td>0</td>\n      <td>0</td>\n    </tr>\n    <tr>\n      <th>14</th>\n      <td>dataSET\\one\\green\\diamond\\empty\\494.png</td>\n      <td>0</td>\n      <td>1</td>\n      <td>0</td>\n      <td>1</td>\n      <td>0</td>\n      <td>0</td>\n      <td>1</td>\n      <td>0</td>\n      <td>0</td>\n      <td>1</td>\n      <td>0</td>\n      <td>0</td>\n    </tr>\n    <tr>\n      <th>15</th>\n      <td>dataSET\\one\\green\\diamond\\empty\\513.png</td>\n      <td>0</td>\n      <td>1</td>\n      <td>0</td>\n      <td>1</td>\n      <td>0</td>\n      <td>0</td>\n      <td>1</td>\n      <td>0</td>\n      <td>0</td>\n      <td>1</td>\n      <td>0</td>\n      <td>0</td>\n    </tr>\n    <tr>\n      <th>16</th>\n      <td>dataSET\\one\\green\\diamond\\empty\\585.png</td>\n      <td>0</td>\n      <td>1</td>\n      <td>0</td>\n      <td>1</td>\n      <td>0</td>\n      <td>0</td>\n      <td>1</td>\n      <td>0</td>\n      <td>0</td>\n      <td>1</td>\n      <td>0</td>\n      <td>0</td>\n    </tr>\n    <tr>\n      <th>17</th>\n      <td>dataSET\\one\\green\\diamond\\empty\\65.png</td>\n      <td>0</td>\n      <td>1</td>\n      <td>0</td>\n      <td>1</td>\n      <td>0</td>\n      <td>0</td>\n      <td>1</td>\n      <td>0</td>\n      <td>0</td>\n      <td>1</td>\n      <td>0</td>\n      <td>0</td>\n    </tr>\n    <tr>\n      <th>18</th>\n      <td>dataSET\\one\\green\\diamond\\empty\\74.png</td>\n      <td>0</td>\n      <td>1</td>\n      <td>0</td>\n      <td>1</td>\n      <td>0</td>\n      <td>0</td>\n      <td>1</td>\n      <td>0</td>\n      <td>0</td>\n      <td>1</td>\n      <td>0</td>\n      <td>0</td>\n    </tr>\n    <tr>\n      <th>19</th>\n      <td>dataSET\\one\\green\\diamond\\empty\\old (16).png</td>\n      <td>0</td>\n      <td>1</td>\n      <td>0</td>\n      <td>1</td>\n      <td>0</td>\n      <td>0</td>\n      <td>1</td>\n      <td>0</td>\n      <td>0</td>\n      <td>1</td>\n      <td>0</td>\n      <td>0</td>\n    </tr>\n    <tr>\n      <th>20</th>\n      <td>dataSET\\one\\green\\diamond\\empty\\tytyt (122).png</td>\n      <td>0</td>\n      <td>1</td>\n      <td>0</td>\n      <td>1</td>\n      <td>0</td>\n      <td>0</td>\n      <td>1</td>\n      <td>0</td>\n      <td>0</td>\n      <td>1</td>\n      <td>0</td>\n      <td>0</td>\n    </tr>\n    <tr>\n      <th>21</th>\n      <td>dataSET\\one\\green\\diamond\\empty\\tytyt (198).png</td>\n      <td>0</td>\n      <td>1</td>\n      <td>0</td>\n      <td>1</td>\n      <td>0</td>\n      <td>0</td>\n      <td>1</td>\n      <td>0</td>\n      <td>0</td>\n      <td>1</td>\n      <td>0</td>\n      <td>0</td>\n    </tr>\n    <tr>\n      <th>22</th>\n      <td>dataSET\\one\\green\\diamond\\empty\\tytyt (62).png</td>\n      <td>0</td>\n      <td>1</td>\n      <td>0</td>\n      <td>1</td>\n      <td>0</td>\n      <td>0</td>\n      <td>1</td>\n      <td>0</td>\n      <td>0</td>\n      <td>1</td>\n      <td>0</td>\n      <td>0</td>\n    </tr>\n    <tr>\n      <th>23</th>\n      <td>dataSET\\one\\green\\diamond\\empty\\z (5).png</td>\n      <td>0</td>\n      <td>1</td>\n      <td>0</td>\n      <td>1</td>\n      <td>0</td>\n      <td>0</td>\n      <td>1</td>\n      <td>0</td>\n      <td>0</td>\n      <td>1</td>\n      <td>0</td>\n      <td>0</td>\n    </tr>\n    <tr>\n      <th>24</th>\n      <td>dataSET\\one\\green\\diamond\\full\\148.png</td>\n      <td>0</td>\n      <td>1</td>\n      <td>0</td>\n      <td>1</td>\n      <td>0</td>\n      <td>0</td>\n      <td>0</td>\n      <td>0</td>\n      <td>1</td>\n      <td>1</td>\n      <td>0</td>\n      <td>0</td>\n    </tr>\n    <tr>\n      <th>25</th>\n      <td>dataSET\\one\\green\\diamond\\full\\169.png</td>\n      <td>0</td>\n      <td>1</td>\n      <td>0</td>\n      <td>1</td>\n      <td>0</td>\n      <td>0</td>\n      <td>0</td>\n      <td>0</td>\n      <td>1</td>\n      <td>1</td>\n      <td>0</td>\n      <td>0</td>\n    </tr>\n    <tr>\n      <th>26</th>\n      <td>dataSET\\one\\green\\diamond\\full\\171.png</td>\n      <td>0</td>\n      <td>1</td>\n      <td>0</td>\n      <td>1</td>\n      <td>0</td>\n      <td>0</td>\n      <td>0</td>\n      <td>0</td>\n      <td>1</td>\n      <td>1</td>\n      <td>0</td>\n      <td>0</td>\n    </tr>\n    <tr>\n      <th>27</th>\n      <td>dataSET\\one\\green\\diamond\\full\\173.png</td>\n      <td>0</td>\n      <td>1</td>\n      <td>0</td>\n      <td>1</td>\n      <td>0</td>\n      <td>0</td>\n      <td>0</td>\n      <td>0</td>\n      <td>1</td>\n      <td>1</td>\n      <td>0</td>\n      <td>0</td>\n    </tr>\n    <tr>\n      <th>28</th>\n      <td>dataSET\\one\\green\\diamond\\full\\188.png</td>\n      <td>0</td>\n      <td>1</td>\n      <td>0</td>\n      <td>1</td>\n      <td>0</td>\n      <td>0</td>\n      <td>0</td>\n      <td>0</td>\n      <td>1</td>\n      <td>1</td>\n      <td>0</td>\n      <td>0</td>\n    </tr>\n    <tr>\n      <th>29</th>\n      <td>dataSET\\one\\green\\diamond\\full\\21.png</td>\n      <td>0</td>\n      <td>1</td>\n      <td>0</td>\n      <td>1</td>\n      <td>0</td>\n      <td>0</td>\n      <td>0</td>\n      <td>0</td>\n      <td>1</td>\n      <td>1</td>\n      <td>0</td>\n      <td>0</td>\n    </tr>\n    <tr>\n      <th>30</th>\n      <td>dataSET\\one\\green\\diamond\\full\\215.png</td>\n      <td>0</td>\n      <td>1</td>\n      <td>0</td>\n      <td>1</td>\n      <td>0</td>\n      <td>0</td>\n      <td>0</td>\n      <td>0</td>\n      <td>1</td>\n      <td>1</td>\n      <td>0</td>\n      <td>0</td>\n    </tr>\n    <tr>\n      <th>31</th>\n      <td>dataSET\\one\\green\\diamond\\full\\279.png</td>\n      <td>0</td>\n      <td>1</td>\n      <td>0</td>\n      <td>1</td>\n      <td>0</td>\n      <td>0</td>\n      <td>0</td>\n      <td>0</td>\n      <td>1</td>\n      <td>1</td>\n      <td>0</td>\n      <td>0</td>\n    </tr>\n    <tr>\n      <th>32</th>\n      <td>dataSET\\one\\green\\diamond\\full\\28.png</td>\n      <td>0</td>\n      <td>1</td>\n      <td>0</td>\n      <td>1</td>\n      <td>0</td>\n      <td>0</td>\n      <td>0</td>\n      <td>0</td>\n      <td>1</td>\n      <td>1</td>\n      <td>0</td>\n      <td>0</td>\n    </tr>\n    <tr>\n      <th>33</th>\n      <td>dataSET\\one\\green\\diamond\\full\\299.png</td>\n      <td>0</td>\n      <td>1</td>\n      <td>0</td>\n      <td>1</td>\n      <td>0</td>\n      <td>0</td>\n      <td>0</td>\n      <td>0</td>\n      <td>1</td>\n      <td>1</td>\n      <td>0</td>\n      <td>0</td>\n    </tr>\n    <tr>\n      <th>34</th>\n      <td>dataSET\\one\\green\\diamond\\full\\339.png</td>\n      <td>0</td>\n      <td>1</td>\n      <td>0</td>\n      <td>1</td>\n      <td>0</td>\n      <td>0</td>\n      <td>0</td>\n      <td>0</td>\n      <td>1</td>\n      <td>1</td>\n      <td>0</td>\n      <td>0</td>\n    </tr>\n    <tr>\n      <th>35</th>\n      <td>dataSET\\one\\green\\diamond\\full\\34.png</td>\n      <td>0</td>\n      <td>1</td>\n      <td>0</td>\n      <td>1</td>\n      <td>0</td>\n      <td>0</td>\n      <td>0</td>\n      <td>0</td>\n      <td>1</td>\n      <td>1</td>\n      <td>0</td>\n      <td>0</td>\n    </tr>\n    <tr>\n      <th>36</th>\n      <td>dataSET\\one\\green\\diamond\\full\\357.png</td>\n      <td>0</td>\n      <td>1</td>\n      <td>0</td>\n      <td>1</td>\n      <td>0</td>\n      <td>0</td>\n      <td>0</td>\n      <td>0</td>\n      <td>1</td>\n      <td>1</td>\n      <td>0</td>\n      <td>0</td>\n    </tr>\n    <tr>\n      <th>37</th>\n      <td>dataSET\\one\\green\\diamond\\full\\40.png</td>\n      <td>0</td>\n      <td>1</td>\n      <td>0</td>\n      <td>1</td>\n      <td>0</td>\n      <td>0</td>\n      <td>0</td>\n      <td>0</td>\n      <td>1</td>\n      <td>1</td>\n      <td>0</td>\n      <td>0</td>\n    </tr>\n    <tr>\n      <th>38</th>\n      <td>dataSET\\one\\green\\diamond\\full\\405.png</td>\n      <td>0</td>\n      <td>1</td>\n      <td>0</td>\n      <td>1</td>\n      <td>0</td>\n      <td>0</td>\n      <td>0</td>\n      <td>0</td>\n      <td>1</td>\n      <td>1</td>\n      <td>0</td>\n      <td>0</td>\n    </tr>\n    <tr>\n      <th>39</th>\n      <td>dataSET\\one\\green\\diamond\\full\\5.png</td>\n      <td>0</td>\n      <td>1</td>\n      <td>0</td>\n      <td>1</td>\n      <td>0</td>\n      <td>0</td>\n      <td>0</td>\n      <td>0</td>\n      <td>1</td>\n      <td>1</td>\n      <td>0</td>\n      <td>0</td>\n    </tr>\n    <tr>\n      <th>40</th>\n      <td>dataSET\\one\\green\\diamond\\full\\505.png</td>\n      <td>0</td>\n      <td>1</td>\n      <td>0</td>\n      <td>1</td>\n      <td>0</td>\n      <td>0</td>\n      <td>0</td>\n      <td>0</td>\n      <td>1</td>\n      <td>1</td>\n      <td>0</td>\n      <td>0</td>\n    </tr>\n    <tr>\n      <th>41</th>\n      <td>dataSET\\one\\green\\diamond\\full\\566.png</td>\n      <td>0</td>\n      <td>1</td>\n      <td>0</td>\n      <td>1</td>\n      <td>0</td>\n      <td>0</td>\n      <td>0</td>\n      <td>0</td>\n      <td>1</td>\n      <td>1</td>\n      <td>0</td>\n      <td>0</td>\n    </tr>\n    <tr>\n      <th>42</th>\n      <td>dataSET\\one\\green\\diamond\\full\\66.png</td>\n      <td>0</td>\n      <td>1</td>\n      <td>0</td>\n      <td>1</td>\n      <td>0</td>\n      <td>0</td>\n      <td>0</td>\n      <td>0</td>\n      <td>1</td>\n      <td>1</td>\n      <td>0</td>\n      <td>0</td>\n    </tr>\n    <tr>\n      <th>43</th>\n      <td>dataSET\\one\\green\\diamond\\full\\old (87).png</td>\n      <td>0</td>\n      <td>1</td>\n      <td>0</td>\n      <td>1</td>\n      <td>0</td>\n      <td>0</td>\n      <td>0</td>\n      <td>0</td>\n      <td>1</td>\n      <td>1</td>\n      <td>0</td>\n      <td>0</td>\n    </tr>\n    <tr>\n      <th>44</th>\n      <td>dataSET\\one\\green\\diamond\\full\\tytyt (208).png</td>\n      <td>0</td>\n      <td>1</td>\n      <td>0</td>\n      <td>1</td>\n      <td>0</td>\n      <td>0</td>\n      <td>0</td>\n      <td>0</td>\n      <td>1</td>\n      <td>1</td>\n      <td>0</td>\n      <td>0</td>\n    </tr>\n    <tr>\n      <th>45</th>\n      <td>dataSET\\one\\green\\diamond\\full\\tytyt (248).png</td>\n      <td>0</td>\n      <td>1</td>\n      <td>0</td>\n      <td>1</td>\n      <td>0</td>\n      <td>0</td>\n      <td>0</td>\n      <td>0</td>\n      <td>1</td>\n      <td>1</td>\n      <td>0</td>\n      <td>0</td>\n    </tr>\n    <tr>\n      <th>46</th>\n      <td>dataSET\\one\\green\\diamond\\full\\tytyt (36).png</td>\n      <td>0</td>\n      <td>1</td>\n      <td>0</td>\n      <td>1</td>\n      <td>0</td>\n      <td>0</td>\n      <td>0</td>\n      <td>0</td>\n      <td>1</td>\n      <td>1</td>\n      <td>0</td>\n      <td>0</td>\n    </tr>\n    <tr>\n      <th>47</th>\n      <td>dataSET\\one\\green\\diamond\\full\\tytyt (9).png</td>\n      <td>0</td>\n      <td>1</td>\n      <td>0</td>\n      <td>1</td>\n      <td>0</td>\n      <td>0</td>\n      <td>0</td>\n      <td>0</td>\n      <td>1</td>\n      <td>1</td>\n      <td>0</td>\n      <td>0</td>\n    </tr>\n    <tr>\n      <th>48</th>\n      <td>dataSET\\one\\green\\diamond\\partial\\115.png</td>\n      <td>0</td>\n      <td>1</td>\n      <td>0</td>\n      <td>1</td>\n      <td>0</td>\n      <td>0</td>\n      <td>0</td>\n      <td>1</td>\n      <td>0</td>\n      <td>1</td>\n      <td>0</td>\n      <td>0</td>\n    </tr>\n    <tr>\n      <th>49</th>\n      <td>dataSET\\one\\green\\diamond\\partial\\188.png</td>\n      <td>0</td>\n      <td>1</td>\n      <td>0</td>\n      <td>1</td>\n      <td>0</td>\n      <td>0</td>\n      <td>0</td>\n      <td>1</td>\n      <td>0</td>\n      <td>1</td>\n      <td>0</td>\n      <td>0</td>\n    </tr>\n  </tbody>\n</table>\n</div>"
     },
     "metadata": {},
     "output_type": "display_data"
    }
   ],
   "source": [
    "data = get_set('./dataSET')\n",
    "\n",
    "mlb = MultiLabelBinarizer(classes=colors + nums + shades + shapes)\n",
    "labels = mlb.fit_transform(data[data.columns[1:]].values)\n",
    "label_frame = pd.DataFrame({key : row for key, row in zip(mlb.classes, labels.T)})\n",
    "binarized_data = pd.concat((data['filepath'], label_frame), axis=1)\n",
    "\n",
    "display(binarized_data.head(50))\n",
    "binarized_data.to_csv('labels.csv', index=False)"
   ],
   "metadata": {
    "collapsed": false,
    "ExecuteTime": {
     "end_time": "2023-10-04T04:32:23.611234500Z",
     "start_time": "2023-10-04T04:32:21.836964200Z"
    }
   }
  },
  {
   "cell_type": "markdown",
   "source": [
    "### Image Format\n",
    "TensorFlow Lite Model Maker requires JPEG images"
   ],
   "metadata": {
    "collapsed": false
   }
  },
  {
   "cell_type": "code",
   "execution_count": 6,
   "outputs": [],
   "source": [
    "from PIL import Image\n",
    "os.makedirs('dataSET.jpg', exist_ok=True)\n",
    "for dirpath, dirname, filenames in os.walk('dataSET'):\n",
    "    for file in filenames:\n",
    "        png = Image.open(join(dirpath, file))\n",
    "        png.save(join('dataSET.jpg', f'{\"_\".join(dirpath.split(os.sep)[1:])}_{path.splitext(file)[0]}.jpg'))"
   ],
   "metadata": {
    "collapsed": false,
    "ExecuteTime": {
     "end_time": "2023-10-04T04:32:26.730437500Z",
     "start_time": "2023-10-04T04:32:23.613230500Z"
    }
   }
  },
  {
   "cell_type": "markdown",
   "source": [
    "### XML data\n",
    "During label process, png filenames were saved to XML annotations. The code below changes them to the new jpg file extensions."
   ],
   "metadata": {
    "collapsed": false
   }
  },
  {
   "cell_type": "code",
   "execution_count": 7,
   "outputs": [],
   "source": [
    "for dirpath, dirname, filenames in os.walk('boxes'):\n",
    "    for file in filenames:\n",
    "        tree = ET.parse(join(dirpath, file))\n",
    "        root = tree.getroot()\n",
    "        \n",
    "        filename_tag = root.find('filename')\n",
    "        filename_tag.text = f'{\"_\".join(dirpath.split(os.sep)[1:])}_{path.splitext(file)[0]}.jpg'\n",
    "        \n",
    "        folder_tag = root.find('folder')\n",
    "        folder_tag.text = join(*dirpath.split(os.sep)[1:])\n",
    "        tree.write(join(dirpath, file))"
   ],
   "metadata": {
    "collapsed": false,
    "ExecuteTime": {
     "end_time": "2023-10-04T04:32:27.614797700Z",
     "start_time": "2023-10-04T04:32:26.733438900Z"
    }
   }
  },
  {
   "cell_type": "code",
   "execution_count": 6,
   "outputs": [],
   "source": [
    "def split():\n",
    "    annotations = [relpath(join(dirpath, path.splitext(file)[0]), 'boxes') for (dirpath, dirnames, filenames) in os.walk('boxes') for file in filenames]\n",
    "    random.shuffle(annotations)\n",
    "    train_annotations = []\n",
    "    validation_annotations = []\n",
    "    test_annotations = []\n",
    "    for i in range(len(annotations)):\n",
    "        if i < .8 * len(annotations):\n",
    "            train_annotations.append(annotations[i])\n",
    "        elif i < .9 * len(annotations):\n",
    "            validation_annotations.append(annotations[i])\n",
    "        else:\n",
    "            test_annotations.append(annotations[i])\n",
    "\n",
    "    train_data = object_detector.DataLoader.from_pascal_voc(images_dir='dataSET.jpg', annotations_dir='boxes', annotation_filenames=train_annotations, label_map=label_names)\n",
    "    validation_data = object_detector.DataLoader.from_pascal_voc(images_dir='dataSET.jpg', annotations_dir='boxes', annotation_filenames=validation_annotations, label_map=label_names)\n",
    "    test_data = object_detector.DataLoader.from_pascal_voc(images_dir='dataSET.jpg', annotations_dir='boxes', annotation_filenames=test_annotations, label_map=label_names)\n",
    "    \n",
    "    return train_data, validation_data, test_data"
   ],
   "metadata": {
    "collapsed": false,
    "ExecuteTime": {
     "end_time": "2023-10-04T14:35:20.440824300Z",
     "start_time": "2023-10-04T14:35:20.428009800Z"
    }
   }
  },
  {
   "cell_type": "code",
   "execution_count": 9,
   "outputs": [],
   "source": [
    "train_data, val_data, test_data = split()"
   ],
   "metadata": {
    "collapsed": false,
    "ExecuteTime": {
     "end_time": "2023-10-04T14:36:14.823329800Z",
     "start_time": "2023-10-04T14:36:11.591420100Z"
    }
   }
  },
  {
   "cell_type": "code",
   "execution_count": 18,
   "outputs": [],
   "source": [
    "low_latency_spec = model_spec.get('efficientdet_lite0')\n",
    "high_precision_spec = model_spec.get('efficientdet_lite4')"
   ],
   "metadata": {
    "collapsed": false,
    "ExecuteTime": {
     "end_time": "2023-10-04T14:45:09.175582300Z",
     "start_time": "2023-10-04T14:45:09.144522300Z"
    }
   }
  },
  {
   "cell_type": "code",
   "execution_count": null,
   "outputs": [],
   "source": [
    "low_latency_model = object_detector.create(train_data, model_spec=low_latency_spec, validation_data=val_data)\n",
    "low_latency_model.export(tflite_filename='ll_model.tflite', export_dir='.')"
   ],
   "metadata": {
    "collapsed": false
   }
  },
  {
   "cell_type": "code",
   "execution_count": null,
   "outputs": [],
   "source": [
    "high_precision_model = object_detector.create(train_data, model_spec=low_latency_spec, validation_data=val_data)\n",
    "high_precision_model.export(tflite_filename='hp_model.tflite', export_dir='.')"
   ],
   "metadata": {
    "collapsed": false
   }
  },
  {
   "cell_type": "markdown",
   "source": [
    "## Results"
   ],
   "metadata": {
    "collapsed": false
   }
  },
  {
   "cell_type": "code",
   "execution_count": null,
   "outputs": [],
   "source": [
    "label_map = {num: label for num, label in zip(range(1, len(label_names) + 1), label_names)}"
   ],
   "metadata": {
    "collapsed": false
   }
  },
  {
   "cell_type": "code",
   "execution_count": 21,
   "outputs": [
    {
     "name": "stdout",
     "output_type": "stream",
     "text": [
      "176/176 [==============================] - 752s 4s/step\n"
     ]
    },
    {
     "data": {
      "text/plain": "{'AP': 0.1425648,\n 'AP50': 0.1853568,\n 'AP75': 0.17009051,\n 'APs': -1.0,\n 'APm': 0.1431163,\n 'APl': -1.0,\n 'ARmax1': 0.19206573,\n 'ARmax10': 0.19241785,\n 'ARmax100': 0.19241785,\n 'ARs': -1.0,\n 'ARm': 0.19241785,\n 'ARl': -1.0,\n 'AP_/one red diamond empty': 0.0,\n 'AP_/one red diamond partial': 0.0,\n 'AP_/one red diamond full': 0.85049504,\n 'AP_/one red oval empty': 0.0,\n 'AP_/one red oval partial': 0.18125884,\n 'AP_/one red oval full': 0.9,\n 'AP_/one red squiggle empty': 0.0,\n 'AP_/one red squiggle partial': -1.0,\n 'AP_/one red squiggle full': 0.4039604,\n 'AP_/one green diamond empty': 0.0,\n 'AP_/one green diamond partial': 0.31287128,\n 'AP_/one green diamond full': 0.0,\n 'AP_/one green oval empty': 0.20049505,\n 'AP_/one green oval partial': 0.0,\n 'AP_/one green oval full': 0.0,\n 'AP_/one green squiggle empty': 0.25262377,\n 'AP_/one green squiggle partial': 0.0,\n 'AP_/one green squiggle full': 0.45544556,\n 'AP_/one purple diamond empty': 0.8,\n 'AP_/one purple diamond partial': 0.07574257,\n 'AP_/one purple diamond full': 0.0,\n 'AP_/one purple oval empty': 0.11782178,\n 'AP_/one purple oval partial': 0.33663365,\n 'AP_/one purple oval full': 0.35346535,\n 'AP_/one purple squiggle empty': 0.000990099,\n 'AP_/one purple squiggle partial': 0.0,\n 'AP_/one purple squiggle full': 0.6019802,\n 'AP_/two red diamond empty': 0.0,\n 'AP_/two red diamond partial': 0.113366336,\n 'AP_/two red diamond full': 0.9,\n 'AP_/two red oval empty': 0.0,\n 'AP_/two red oval partial': 0.0,\n 'AP_/two red oval full': 0.0,\n 'AP_/two red squiggle empty': -1.0,\n 'AP_/two red squiggle partial': -1.0,\n 'AP_/two red squiggle full': -1.0,\n 'AP_/two green diamond empty': 0.0,\n 'AP_/two green diamond partial': 0.0,\n 'AP_/two green diamond full': -1.0,\n 'AP_/two green oval empty': -1.0,\n 'AP_/two green oval partial': 0.016633663,\n 'AP_/two green oval full': 0.0,\n 'AP_/two green squiggle empty': 0.51425743,\n 'AP_/two green squiggle partial': 0.0,\n 'AP_/two green squiggle full': 0.0,\n 'AP_/two purple diamond empty': 0.0,\n 'AP_/two purple diamond partial': 0.0,\n 'AP_/two purple diamond full': 0.0,\n 'AP_/two purple oval empty': 0.0,\n 'AP_/two purple oval partial': 0.4529703,\n 'AP_/two purple oval full': 0.0,\n 'AP_/two purple squiggle empty': -1.0,\n 'AP_/two purple squiggle partial': -1.0,\n 'AP_/two purple squiggle full': -1.0,\n 'AP_/three red diamond empty': 0.21301273,\n 'AP_/three red diamond partial': 0.14914492,\n 'AP_/three red diamond full': 0.0,\n 'AP_/three red oval empty': 0.0,\n 'AP_/three red oval partial': 0.0,\n 'AP_/three red oval full': 0.2190099,\n 'AP_/three red squiggle empty': 0.0,\n 'AP_/three red squiggle partial': 0.0,\n 'AP_/three red squiggle full': 0.008316832,\n 'AP_/three green diamond empty': 0.0,\n 'AP_/three green diamond partial': 0.070799254,\n 'AP_/three green diamond full': 0.26930693,\n 'AP_/three green oval empty': 0.0,\n 'AP_/three green oval partial': 0.0,\n 'AP_/three green oval full': 0.7,\n 'AP_/three green squiggle empty': 0.04328147,\n 'AP_/three green squiggle partial': -1.0,\n 'AP_/three green squiggle full': 0.0,\n 'AP_/three purple diamond empty': 0.3029703,\n 'AP_/three purple diamond partial': 0.0,\n 'AP_/three purple diamond full': 0.20594059,\n 'AP_/three purple oval empty': 0.0,\n 'AP_/three purple oval partial': 0.0,\n 'AP_/three purple oval full': 0.0,\n 'AP_/three purple squiggle empty': 0.0084158415,\n 'AP_/three purple squiggle partial': 0.090891086,\n 'AP_/three purple squiggle full': 0.0}"
     },
     "execution_count": 21,
     "metadata": {},
     "output_type": "execute_result"
    }
   ],
   "source": [
    "ll_obj_detector = object_detector.ObjectDetector(model_spec=low_latency_spec, label_map=test_data.label_map)\n",
    "ll_obj_detector.evaluate_tflite('ll_model.tflite', test_data)"
   ],
   "metadata": {
    "collapsed": false,
    "ExecuteTime": {
     "end_time": "2023-10-04T14:58:47.214745400Z",
     "start_time": "2023-10-04T14:46:13.971848200Z"
    }
   }
  },
  {
   "cell_type": "code",
   "execution_count": null,
   "outputs": [],
   "source": [
    "hh_obj_detector = object_detector.ObjectDetector(model_spec=high_precision_spec, label_map=test_data.label_map)\n",
    "hh_obj_detector.evaluate_tflite('hp_model.tflite', test_data)"
   ],
   "metadata": {
    "collapsed": false,
    "is_executing": true
   }
  }
 ],
 "metadata": {
  "kernelspec": {
   "display_name": "Python 3",
   "language": "python",
   "name": "python3"
  },
  "language_info": {
   "codemirror_mode": {
    "name": "ipython",
    "version": 2
   },
   "file_extension": ".py",
   "mimetype": "text/x-python",
   "name": "python",
   "nbconvert_exporter": "python",
   "pygments_lexer": "ipython2",
   "version": "2.7.6"
  }
 },
 "nbformat": 4,
 "nbformat_minor": 0
}
