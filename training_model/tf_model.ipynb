{
 "cells": [
  {
   "cell_type": "markdown",
   "source": [
    "### Imports"
   ],
   "metadata": {
    "collapsed": false
   }
  },
  {
   "cell_type": "code",
   "execution_count": 22,
   "outputs": [],
   "source": [
    "import os\n",
    "from os import path\n",
    "from os.path import join, relpath\n",
    "import random\n",
    "\n",
    "import xml.etree.ElementTree as ET\n",
    "\n",
    "from tflite_model_maker import ExportFormat\n",
    "from tflite_model_maker import model_spec\n",
    "from tflite_model_maker import object_detector\n",
    "\n",
    "import tensorflow as tf\n",
    "tf.get_logger().setLevel('ERROR')\n",
    "from absl import logging\n",
    "logging.set_verbosity(logging.ERROR)\n",
    "\n",
    "import numpy as np\n",
    "import pandas as pd\n",
    "from sklearn.preprocessing import MultiLabelBinarizer"
   ],
   "metadata": {
    "collapsed": false,
    "ExecuteTime": {
     "end_time": "2023-10-04T15:06:36.841157400Z",
     "start_time": "2023-10-04T15:06:36.805162200Z"
    }
   }
  },
  {
   "cell_type": "markdown",
   "source": [
    "### Helpful constants"
   ],
   "metadata": {
    "collapsed": false
   }
  },
  {
   "cell_type": "code",
   "execution_count": 5,
   "outputs": [],
   "source": [
    "colors = 'red','green','purple'\n",
    "nums = 'one','two','three'\n",
    "shades = 'empty','partial','full'\n",
    "shapes = 'diamond','oval','squiggle'\n",
    "label_names = [f'{num} {color} {shape} {shade}' for num in nums for color in colors for shape in shapes for shade in shades]"
   ],
   "metadata": {
    "collapsed": false,
    "ExecuteTime": {
     "end_time": "2023-10-04T14:35:05.229436600Z",
     "start_time": "2023-10-04T14:35:05.216436200Z"
    }
   }
  },
  {
   "cell_type": "markdown",
   "source": [
    "### Data formatting"
   ],
   "metadata": {
    "collapsed": false
   }
  },
  {
   "cell_type": "code",
   "execution_count": 3,
   "outputs": [
    {
     "data": {
      "text/plain": "                                           filepath class_color class_num  \\\n0           dataSET\\one\\green\\diamond\\empty\\101.png       green       one   \n1           dataSET\\one\\green\\diamond\\empty\\120.png       green       one   \n2           dataSET\\one\\green\\diamond\\empty\\172.png       green       one   \n3           dataSET\\one\\green\\diamond\\empty\\189.png       green       one   \n4             dataSET\\one\\green\\diamond\\empty\\2.png       green       one   \n5           dataSET\\one\\green\\diamond\\empty\\205.png       green       one   \n6           dataSET\\one\\green\\diamond\\empty\\222.png       green       one   \n7           dataSET\\one\\green\\diamond\\empty\\254.png       green       one   \n8           dataSET\\one\\green\\diamond\\empty\\286.png       green       one   \n9            dataSET\\one\\green\\diamond\\empty\\31.png       green       one   \n10          dataSET\\one\\green\\diamond\\empty\\325.png       green       one   \n11          dataSET\\one\\green\\diamond\\empty\\381.png       green       one   \n12            dataSET\\one\\green\\diamond\\empty\\4.png       green       one   \n13          dataSET\\one\\green\\diamond\\empty\\452.png       green       one   \n14          dataSET\\one\\green\\diamond\\empty\\494.png       green       one   \n15          dataSET\\one\\green\\diamond\\empty\\513.png       green       one   \n16          dataSET\\one\\green\\diamond\\empty\\585.png       green       one   \n17           dataSET\\one\\green\\diamond\\empty\\65.png       green       one   \n18           dataSET\\one\\green\\diamond\\empty\\74.png       green       one   \n19     dataSET\\one\\green\\diamond\\empty\\old (16).png       green       one   \n20  dataSET\\one\\green\\diamond\\empty\\tytyt (122).png       green       one   \n21  dataSET\\one\\green\\diamond\\empty\\tytyt (198).png       green       one   \n22   dataSET\\one\\green\\diamond\\empty\\tytyt (62).png       green       one   \n23        dataSET\\one\\green\\diamond\\empty\\z (5).png       green       one   \n24           dataSET\\one\\green\\diamond\\full\\148.png       green       one   \n25           dataSET\\one\\green\\diamond\\full\\169.png       green       one   \n26           dataSET\\one\\green\\diamond\\full\\171.png       green       one   \n27           dataSET\\one\\green\\diamond\\full\\173.png       green       one   \n28           dataSET\\one\\green\\diamond\\full\\188.png       green       one   \n29            dataSET\\one\\green\\diamond\\full\\21.png       green       one   \n30           dataSET\\one\\green\\diamond\\full\\215.png       green       one   \n31           dataSET\\one\\green\\diamond\\full\\279.png       green       one   \n32            dataSET\\one\\green\\diamond\\full\\28.png       green       one   \n33           dataSET\\one\\green\\diamond\\full\\299.png       green       one   \n34           dataSET\\one\\green\\diamond\\full\\339.png       green       one   \n35            dataSET\\one\\green\\diamond\\full\\34.png       green       one   \n36           dataSET\\one\\green\\diamond\\full\\357.png       green       one   \n37            dataSET\\one\\green\\diamond\\full\\40.png       green       one   \n38           dataSET\\one\\green\\diamond\\full\\405.png       green       one   \n39             dataSET\\one\\green\\diamond\\full\\5.png       green       one   \n40           dataSET\\one\\green\\diamond\\full\\505.png       green       one   \n41           dataSET\\one\\green\\diamond\\full\\566.png       green       one   \n42            dataSET\\one\\green\\diamond\\full\\66.png       green       one   \n43      dataSET\\one\\green\\diamond\\full\\old (87).png       green       one   \n44   dataSET\\one\\green\\diamond\\full\\tytyt (208).png       green       one   \n45   dataSET\\one\\green\\diamond\\full\\tytyt (248).png       green       one   \n46    dataSET\\one\\green\\diamond\\full\\tytyt (36).png       green       one   \n47     dataSET\\one\\green\\diamond\\full\\tytyt (9).png       green       one   \n48        dataSET\\one\\green\\diamond\\partial\\115.png       green       one   \n49        dataSET\\one\\green\\diamond\\partial\\188.png       green       one   \n\n   class_shape class_shade  \n0      diamond       empty  \n1      diamond       empty  \n2      diamond       empty  \n3      diamond       empty  \n4      diamond       empty  \n5      diamond       empty  \n6      diamond       empty  \n7      diamond       empty  \n8      diamond       empty  \n9      diamond       empty  \n10     diamond       empty  \n11     diamond       empty  \n12     diamond       empty  \n13     diamond       empty  \n14     diamond       empty  \n15     diamond       empty  \n16     diamond       empty  \n17     diamond       empty  \n18     diamond       empty  \n19     diamond       empty  \n20     diamond       empty  \n21     diamond       empty  \n22     diamond       empty  \n23     diamond       empty  \n24     diamond        full  \n25     diamond        full  \n26     diamond        full  \n27     diamond        full  \n28     diamond        full  \n29     diamond        full  \n30     diamond        full  \n31     diamond        full  \n32     diamond        full  \n33     diamond        full  \n34     diamond        full  \n35     diamond        full  \n36     diamond        full  \n37     diamond        full  \n38     diamond        full  \n39     diamond        full  \n40     diamond        full  \n41     diamond        full  \n42     diamond        full  \n43     diamond        full  \n44     diamond        full  \n45     diamond        full  \n46     diamond        full  \n47     diamond        full  \n48     diamond     partial  \n49     diamond     partial  ",
      "text/html": "<div>\n<style scoped>\n    .dataframe tbody tr th:only-of-type {\n        vertical-align: middle;\n    }\n\n    .dataframe tbody tr th {\n        vertical-align: top;\n    }\n\n    .dataframe thead th {\n        text-align: right;\n    }\n</style>\n<table border=\"1\" class=\"dataframe\">\n  <thead>\n    <tr style=\"text-align: right;\">\n      <th></th>\n      <th>filepath</th>\n      <th>class_color</th>\n      <th>class_num</th>\n      <th>class_shape</th>\n      <th>class_shade</th>\n    </tr>\n  </thead>\n  <tbody>\n    <tr>\n      <th>0</th>\n      <td>dataSET\\one\\green\\diamond\\empty\\101.png</td>\n      <td>green</td>\n      <td>one</td>\n      <td>diamond</td>\n      <td>empty</td>\n    </tr>\n    <tr>\n      <th>1</th>\n      <td>dataSET\\one\\green\\diamond\\empty\\120.png</td>\n      <td>green</td>\n      <td>one</td>\n      <td>diamond</td>\n      <td>empty</td>\n    </tr>\n    <tr>\n      <th>2</th>\n      <td>dataSET\\one\\green\\diamond\\empty\\172.png</td>\n      <td>green</td>\n      <td>one</td>\n      <td>diamond</td>\n      <td>empty</td>\n    </tr>\n    <tr>\n      <th>3</th>\n      <td>dataSET\\one\\green\\diamond\\empty\\189.png</td>\n      <td>green</td>\n      <td>one</td>\n      <td>diamond</td>\n      <td>empty</td>\n    </tr>\n    <tr>\n      <th>4</th>\n      <td>dataSET\\one\\green\\diamond\\empty\\2.png</td>\n      <td>green</td>\n      <td>one</td>\n      <td>diamond</td>\n      <td>empty</td>\n    </tr>\n    <tr>\n      <th>5</th>\n      <td>dataSET\\one\\green\\diamond\\empty\\205.png</td>\n      <td>green</td>\n      <td>one</td>\n      <td>diamond</td>\n      <td>empty</td>\n    </tr>\n    <tr>\n      <th>6</th>\n      <td>dataSET\\one\\green\\diamond\\empty\\222.png</td>\n      <td>green</td>\n      <td>one</td>\n      <td>diamond</td>\n      <td>empty</td>\n    </tr>\n    <tr>\n      <th>7</th>\n      <td>dataSET\\one\\green\\diamond\\empty\\254.png</td>\n      <td>green</td>\n      <td>one</td>\n      <td>diamond</td>\n      <td>empty</td>\n    </tr>\n    <tr>\n      <th>8</th>\n      <td>dataSET\\one\\green\\diamond\\empty\\286.png</td>\n      <td>green</td>\n      <td>one</td>\n      <td>diamond</td>\n      <td>empty</td>\n    </tr>\n    <tr>\n      <th>9</th>\n      <td>dataSET\\one\\green\\diamond\\empty\\31.png</td>\n      <td>green</td>\n      <td>one</td>\n      <td>diamond</td>\n      <td>empty</td>\n    </tr>\n    <tr>\n      <th>10</th>\n      <td>dataSET\\one\\green\\diamond\\empty\\325.png</td>\n      <td>green</td>\n      <td>one</td>\n      <td>diamond</td>\n      <td>empty</td>\n    </tr>\n    <tr>\n      <th>11</th>\n      <td>dataSET\\one\\green\\diamond\\empty\\381.png</td>\n      <td>green</td>\n      <td>one</td>\n      <td>diamond</td>\n      <td>empty</td>\n    </tr>\n    <tr>\n      <th>12</th>\n      <td>dataSET\\one\\green\\diamond\\empty\\4.png</td>\n      <td>green</td>\n      <td>one</td>\n      <td>diamond</td>\n      <td>empty</td>\n    </tr>\n    <tr>\n      <th>13</th>\n      <td>dataSET\\one\\green\\diamond\\empty\\452.png</td>\n      <td>green</td>\n      <td>one</td>\n      <td>diamond</td>\n      <td>empty</td>\n    </tr>\n    <tr>\n      <th>14</th>\n      <td>dataSET\\one\\green\\diamond\\empty\\494.png</td>\n      <td>green</td>\n      <td>one</td>\n      <td>diamond</td>\n      <td>empty</td>\n    </tr>\n    <tr>\n      <th>15</th>\n      <td>dataSET\\one\\green\\diamond\\empty\\513.png</td>\n      <td>green</td>\n      <td>one</td>\n      <td>diamond</td>\n      <td>empty</td>\n    </tr>\n    <tr>\n      <th>16</th>\n      <td>dataSET\\one\\green\\diamond\\empty\\585.png</td>\n      <td>green</td>\n      <td>one</td>\n      <td>diamond</td>\n      <td>empty</td>\n    </tr>\n    <tr>\n      <th>17</th>\n      <td>dataSET\\one\\green\\diamond\\empty\\65.png</td>\n      <td>green</td>\n      <td>one</td>\n      <td>diamond</td>\n      <td>empty</td>\n    </tr>\n    <tr>\n      <th>18</th>\n      <td>dataSET\\one\\green\\diamond\\empty\\74.png</td>\n      <td>green</td>\n      <td>one</td>\n      <td>diamond</td>\n      <td>empty</td>\n    </tr>\n    <tr>\n      <th>19</th>\n      <td>dataSET\\one\\green\\diamond\\empty\\old (16).png</td>\n      <td>green</td>\n      <td>one</td>\n      <td>diamond</td>\n      <td>empty</td>\n    </tr>\n    <tr>\n      <th>20</th>\n      <td>dataSET\\one\\green\\diamond\\empty\\tytyt (122).png</td>\n      <td>green</td>\n      <td>one</td>\n      <td>diamond</td>\n      <td>empty</td>\n    </tr>\n    <tr>\n      <th>21</th>\n      <td>dataSET\\one\\green\\diamond\\empty\\tytyt (198).png</td>\n      <td>green</td>\n      <td>one</td>\n      <td>diamond</td>\n      <td>empty</td>\n    </tr>\n    <tr>\n      <th>22</th>\n      <td>dataSET\\one\\green\\diamond\\empty\\tytyt (62).png</td>\n      <td>green</td>\n      <td>one</td>\n      <td>diamond</td>\n      <td>empty</td>\n    </tr>\n    <tr>\n      <th>23</th>\n      <td>dataSET\\one\\green\\diamond\\empty\\z (5).png</td>\n      <td>green</td>\n      <td>one</td>\n      <td>diamond</td>\n      <td>empty</td>\n    </tr>\n    <tr>\n      <th>24</th>\n      <td>dataSET\\one\\green\\diamond\\full\\148.png</td>\n      <td>green</td>\n      <td>one</td>\n      <td>diamond</td>\n      <td>full</td>\n    </tr>\n    <tr>\n      <th>25</th>\n      <td>dataSET\\one\\green\\diamond\\full\\169.png</td>\n      <td>green</td>\n      <td>one</td>\n      <td>diamond</td>\n      <td>full</td>\n    </tr>\n    <tr>\n      <th>26</th>\n      <td>dataSET\\one\\green\\diamond\\full\\171.png</td>\n      <td>green</td>\n      <td>one</td>\n      <td>diamond</td>\n      <td>full</td>\n    </tr>\n    <tr>\n      <th>27</th>\n      <td>dataSET\\one\\green\\diamond\\full\\173.png</td>\n      <td>green</td>\n      <td>one</td>\n      <td>diamond</td>\n      <td>full</td>\n    </tr>\n    <tr>\n      <th>28</th>\n      <td>dataSET\\one\\green\\diamond\\full\\188.png</td>\n      <td>green</td>\n      <td>one</td>\n      <td>diamond</td>\n      <td>full</td>\n    </tr>\n    <tr>\n      <th>29</th>\n      <td>dataSET\\one\\green\\diamond\\full\\21.png</td>\n      <td>green</td>\n      <td>one</td>\n      <td>diamond</td>\n      <td>full</td>\n    </tr>\n    <tr>\n      <th>30</th>\n      <td>dataSET\\one\\green\\diamond\\full\\215.png</td>\n      <td>green</td>\n      <td>one</td>\n      <td>diamond</td>\n      <td>full</td>\n    </tr>\n    <tr>\n      <th>31</th>\n      <td>dataSET\\one\\green\\diamond\\full\\279.png</td>\n      <td>green</td>\n      <td>one</td>\n      <td>diamond</td>\n      <td>full</td>\n    </tr>\n    <tr>\n      <th>32</th>\n      <td>dataSET\\one\\green\\diamond\\full\\28.png</td>\n      <td>green</td>\n      <td>one</td>\n      <td>diamond</td>\n      <td>full</td>\n    </tr>\n    <tr>\n      <th>33</th>\n      <td>dataSET\\one\\green\\diamond\\full\\299.png</td>\n      <td>green</td>\n      <td>one</td>\n      <td>diamond</td>\n      <td>full</td>\n    </tr>\n    <tr>\n      <th>34</th>\n      <td>dataSET\\one\\green\\diamond\\full\\339.png</td>\n      <td>green</td>\n      <td>one</td>\n      <td>diamond</td>\n      <td>full</td>\n    </tr>\n    <tr>\n      <th>35</th>\n      <td>dataSET\\one\\green\\diamond\\full\\34.png</td>\n      <td>green</td>\n      <td>one</td>\n      <td>diamond</td>\n      <td>full</td>\n    </tr>\n    <tr>\n      <th>36</th>\n      <td>dataSET\\one\\green\\diamond\\full\\357.png</td>\n      <td>green</td>\n      <td>one</td>\n      <td>diamond</td>\n      <td>full</td>\n    </tr>\n    <tr>\n      <th>37</th>\n      <td>dataSET\\one\\green\\diamond\\full\\40.png</td>\n      <td>green</td>\n      <td>one</td>\n      <td>diamond</td>\n      <td>full</td>\n    </tr>\n    <tr>\n      <th>38</th>\n      <td>dataSET\\one\\green\\diamond\\full\\405.png</td>\n      <td>green</td>\n      <td>one</td>\n      <td>diamond</td>\n      <td>full</td>\n    </tr>\n    <tr>\n      <th>39</th>\n      <td>dataSET\\one\\green\\diamond\\full\\5.png</td>\n      <td>green</td>\n      <td>one</td>\n      <td>diamond</td>\n      <td>full</td>\n    </tr>\n    <tr>\n      <th>40</th>\n      <td>dataSET\\one\\green\\diamond\\full\\505.png</td>\n      <td>green</td>\n      <td>one</td>\n      <td>diamond</td>\n      <td>full</td>\n    </tr>\n    <tr>\n      <th>41</th>\n      <td>dataSET\\one\\green\\diamond\\full\\566.png</td>\n      <td>green</td>\n      <td>one</td>\n      <td>diamond</td>\n      <td>full</td>\n    </tr>\n    <tr>\n      <th>42</th>\n      <td>dataSET\\one\\green\\diamond\\full\\66.png</td>\n      <td>green</td>\n      <td>one</td>\n      <td>diamond</td>\n      <td>full</td>\n    </tr>\n    <tr>\n      <th>43</th>\n      <td>dataSET\\one\\green\\diamond\\full\\old (87).png</td>\n      <td>green</td>\n      <td>one</td>\n      <td>diamond</td>\n      <td>full</td>\n    </tr>\n    <tr>\n      <th>44</th>\n      <td>dataSET\\one\\green\\diamond\\full\\tytyt (208).png</td>\n      <td>green</td>\n      <td>one</td>\n      <td>diamond</td>\n      <td>full</td>\n    </tr>\n    <tr>\n      <th>45</th>\n      <td>dataSET\\one\\green\\diamond\\full\\tytyt (248).png</td>\n      <td>green</td>\n      <td>one</td>\n      <td>diamond</td>\n      <td>full</td>\n    </tr>\n    <tr>\n      <th>46</th>\n      <td>dataSET\\one\\green\\diamond\\full\\tytyt (36).png</td>\n      <td>green</td>\n      <td>one</td>\n      <td>diamond</td>\n      <td>full</td>\n    </tr>\n    <tr>\n      <th>47</th>\n      <td>dataSET\\one\\green\\diamond\\full\\tytyt (9).png</td>\n      <td>green</td>\n      <td>one</td>\n      <td>diamond</td>\n      <td>full</td>\n    </tr>\n    <tr>\n      <th>48</th>\n      <td>dataSET\\one\\green\\diamond\\partial\\115.png</td>\n      <td>green</td>\n      <td>one</td>\n      <td>diamond</td>\n      <td>partial</td>\n    </tr>\n    <tr>\n      <th>49</th>\n      <td>dataSET\\one\\green\\diamond\\partial\\188.png</td>\n      <td>green</td>\n      <td>one</td>\n      <td>diamond</td>\n      <td>partial</td>\n    </tr>\n  </tbody>\n</table>\n</div>"
     },
     "metadata": {},
     "output_type": "display_data"
    }
   ],
   "source": [
    "def get_set(path):\n",
    "    data = pd.DataFrame(columns=['filepath', 'class_color', 'class_num', 'class_shape', 'class_shade'])\n",
    "    for dirpath, subdirs, files in os.walk(path):\n",
    "        for file in files:\n",
    "            filepath = relpath(join(dirpath, file))\n",
    "            strpath = str(filepath).split('\\\\')\n",
    "            class_num = strpath[-5]\n",
    "            class_color = strpath[-4]\n",
    "            class_shape = strpath[-3]\n",
    "            class_shade = strpath[-2]\n",
    "            row = pd.DataFrame({'filepath': filepath,\n",
    "                             'class_color': class_color,\n",
    "                             'class_num': class_num,\n",
    "                             'class_shape': class_shape,\n",
    "                             'class_shade': class_shade},\n",
    "                               columns=['filepath', 'class_color', 'class_num', 'class_shape', 'class_shade'],\n",
    "                               index=[0])\n",
    "            data = pd.concat([data, row], ignore_index=True)\n",
    "    return data\n",
    "\n",
    "data_panda = get_set('./dataSET')\n",
    "display(data_panda.head(50))"
   ],
   "metadata": {
    "collapsed": false,
    "ExecuteTime": {
     "start_time": "2023-10-04T04:32:20.156264500Z"
    }
   }
  },
  {
   "cell_type": "code",
   "execution_count": 5,
   "outputs": [
    {
     "data": {
      "text/plain": "                                           filepath  red  green  purple  one  \\\n0           dataSET\\one\\green\\diamond\\empty\\101.png    0      1       0    1   \n1           dataSET\\one\\green\\diamond\\empty\\120.png    0      1       0    1   \n2           dataSET\\one\\green\\diamond\\empty\\172.png    0      1       0    1   \n3           dataSET\\one\\green\\diamond\\empty\\189.png    0      1       0    1   \n4             dataSET\\one\\green\\diamond\\empty\\2.png    0      1       0    1   \n5           dataSET\\one\\green\\diamond\\empty\\205.png    0      1       0    1   \n6           dataSET\\one\\green\\diamond\\empty\\222.png    0      1       0    1   \n7           dataSET\\one\\green\\diamond\\empty\\254.png    0      1       0    1   \n8           dataSET\\one\\green\\diamond\\empty\\286.png    0      1       0    1   \n9            dataSET\\one\\green\\diamond\\empty\\31.png    0      1       0    1   \n10          dataSET\\one\\green\\diamond\\empty\\325.png    0      1       0    1   \n11          dataSET\\one\\green\\diamond\\empty\\381.png    0      1       0    1   \n12            dataSET\\one\\green\\diamond\\empty\\4.png    0      1       0    1   \n13          dataSET\\one\\green\\diamond\\empty\\452.png    0      1       0    1   \n14          dataSET\\one\\green\\diamond\\empty\\494.png    0      1       0    1   \n15          dataSET\\one\\green\\diamond\\empty\\513.png    0      1       0    1   \n16          dataSET\\one\\green\\diamond\\empty\\585.png    0      1       0    1   \n17           dataSET\\one\\green\\diamond\\empty\\65.png    0      1       0    1   \n18           dataSET\\one\\green\\diamond\\empty\\74.png    0      1       0    1   \n19     dataSET\\one\\green\\diamond\\empty\\old (16).png    0      1       0    1   \n20  dataSET\\one\\green\\diamond\\empty\\tytyt (122).png    0      1       0    1   \n21  dataSET\\one\\green\\diamond\\empty\\tytyt (198).png    0      1       0    1   \n22   dataSET\\one\\green\\diamond\\empty\\tytyt (62).png    0      1       0    1   \n23        dataSET\\one\\green\\diamond\\empty\\z (5).png    0      1       0    1   \n24           dataSET\\one\\green\\diamond\\full\\148.png    0      1       0    1   \n25           dataSET\\one\\green\\diamond\\full\\169.png    0      1       0    1   \n26           dataSET\\one\\green\\diamond\\full\\171.png    0      1       0    1   \n27           dataSET\\one\\green\\diamond\\full\\173.png    0      1       0    1   \n28           dataSET\\one\\green\\diamond\\full\\188.png    0      1       0    1   \n29            dataSET\\one\\green\\diamond\\full\\21.png    0      1       0    1   \n30           dataSET\\one\\green\\diamond\\full\\215.png    0      1       0    1   \n31           dataSET\\one\\green\\diamond\\full\\279.png    0      1       0    1   \n32            dataSET\\one\\green\\diamond\\full\\28.png    0      1       0    1   \n33           dataSET\\one\\green\\diamond\\full\\299.png    0      1       0    1   \n34           dataSET\\one\\green\\diamond\\full\\339.png    0      1       0    1   \n35            dataSET\\one\\green\\diamond\\full\\34.png    0      1       0    1   \n36           dataSET\\one\\green\\diamond\\full\\357.png    0      1       0    1   \n37            dataSET\\one\\green\\diamond\\full\\40.png    0      1       0    1   \n38           dataSET\\one\\green\\diamond\\full\\405.png    0      1       0    1   \n39             dataSET\\one\\green\\diamond\\full\\5.png    0      1       0    1   \n40           dataSET\\one\\green\\diamond\\full\\505.png    0      1       0    1   \n41           dataSET\\one\\green\\diamond\\full\\566.png    0      1       0    1   \n42            dataSET\\one\\green\\diamond\\full\\66.png    0      1       0    1   \n43      dataSET\\one\\green\\diamond\\full\\old (87).png    0      1       0    1   \n44   dataSET\\one\\green\\diamond\\full\\tytyt (208).png    0      1       0    1   \n45   dataSET\\one\\green\\diamond\\full\\tytyt (248).png    0      1       0    1   \n46    dataSET\\one\\green\\diamond\\full\\tytyt (36).png    0      1       0    1   \n47     dataSET\\one\\green\\diamond\\full\\tytyt (9).png    0      1       0    1   \n48        dataSET\\one\\green\\diamond\\partial\\115.png    0      1       0    1   \n49        dataSET\\one\\green\\diamond\\partial\\188.png    0      1       0    1   \n\n    two  three  empty  partial  full  diamond  oval  squiggle  \n0     0      0      1        0     0        1     0         0  \n1     0      0      1        0     0        1     0         0  \n2     0      0      1        0     0        1     0         0  \n3     0      0      1        0     0        1     0         0  \n4     0      0      1        0     0        1     0         0  \n5     0      0      1        0     0        1     0         0  \n6     0      0      1        0     0        1     0         0  \n7     0      0      1        0     0        1     0         0  \n8     0      0      1        0     0        1     0         0  \n9     0      0      1        0     0        1     0         0  \n10    0      0      1        0     0        1     0         0  \n11    0      0      1        0     0        1     0         0  \n12    0      0      1        0     0        1     0         0  \n13    0      0      1        0     0        1     0         0  \n14    0      0      1        0     0        1     0         0  \n15    0      0      1        0     0        1     0         0  \n16    0      0      1        0     0        1     0         0  \n17    0      0      1        0     0        1     0         0  \n18    0      0      1        0     0        1     0         0  \n19    0      0      1        0     0        1     0         0  \n20    0      0      1        0     0        1     0         0  \n21    0      0      1        0     0        1     0         0  \n22    0      0      1        0     0        1     0         0  \n23    0      0      1        0     0        1     0         0  \n24    0      0      0        0     1        1     0         0  \n25    0      0      0        0     1        1     0         0  \n26    0      0      0        0     1        1     0         0  \n27    0      0      0        0     1        1     0         0  \n28    0      0      0        0     1        1     0         0  \n29    0      0      0        0     1        1     0         0  \n30    0      0      0        0     1        1     0         0  \n31    0      0      0        0     1        1     0         0  \n32    0      0      0        0     1        1     0         0  \n33    0      0      0        0     1        1     0         0  \n34    0      0      0        0     1        1     0         0  \n35    0      0      0        0     1        1     0         0  \n36    0      0      0        0     1        1     0         0  \n37    0      0      0        0     1        1     0         0  \n38    0      0      0        0     1        1     0         0  \n39    0      0      0        0     1        1     0         0  \n40    0      0      0        0     1        1     0         0  \n41    0      0      0        0     1        1     0         0  \n42    0      0      0        0     1        1     0         0  \n43    0      0      0        0     1        1     0         0  \n44    0      0      0        0     1        1     0         0  \n45    0      0      0        0     1        1     0         0  \n46    0      0      0        0     1        1     0         0  \n47    0      0      0        0     1        1     0         0  \n48    0      0      0        1     0        1     0         0  \n49    0      0      0        1     0        1     0         0  ",
      "text/html": "<div>\n<style scoped>\n    .dataframe tbody tr th:only-of-type {\n        vertical-align: middle;\n    }\n\n    .dataframe tbody tr th {\n        vertical-align: top;\n    }\n\n    .dataframe thead th {\n        text-align: right;\n    }\n</style>\n<table border=\"1\" class=\"dataframe\">\n  <thead>\n    <tr style=\"text-align: right;\">\n      <th></th>\n      <th>filepath</th>\n      <th>red</th>\n      <th>green</th>\n      <th>purple</th>\n      <th>one</th>\n      <th>two</th>\n      <th>three</th>\n      <th>empty</th>\n      <th>partial</th>\n      <th>full</th>\n      <th>diamond</th>\n      <th>oval</th>\n      <th>squiggle</th>\n    </tr>\n  </thead>\n  <tbody>\n    <tr>\n      <th>0</th>\n      <td>dataSET\\one\\green\\diamond\\empty\\101.png</td>\n      <td>0</td>\n      <td>1</td>\n      <td>0</td>\n      <td>1</td>\n      <td>0</td>\n      <td>0</td>\n      <td>1</td>\n      <td>0</td>\n      <td>0</td>\n      <td>1</td>\n      <td>0</td>\n      <td>0</td>\n    </tr>\n    <tr>\n      <th>1</th>\n      <td>dataSET\\one\\green\\diamond\\empty\\120.png</td>\n      <td>0</td>\n      <td>1</td>\n      <td>0</td>\n      <td>1</td>\n      <td>0</td>\n      <td>0</td>\n      <td>1</td>\n      <td>0</td>\n      <td>0</td>\n      <td>1</td>\n      <td>0</td>\n      <td>0</td>\n    </tr>\n    <tr>\n      <th>2</th>\n      <td>dataSET\\one\\green\\diamond\\empty\\172.png</td>\n      <td>0</td>\n      <td>1</td>\n      <td>0</td>\n      <td>1</td>\n      <td>0</td>\n      <td>0</td>\n      <td>1</td>\n      <td>0</td>\n      <td>0</td>\n      <td>1</td>\n      <td>0</td>\n      <td>0</td>\n    </tr>\n    <tr>\n      <th>3</th>\n      <td>dataSET\\one\\green\\diamond\\empty\\189.png</td>\n      <td>0</td>\n      <td>1</td>\n      <td>0</td>\n      <td>1</td>\n      <td>0</td>\n      <td>0</td>\n      <td>1</td>\n      <td>0</td>\n      <td>0</td>\n      <td>1</td>\n      <td>0</td>\n      <td>0</td>\n    </tr>\n    <tr>\n      <th>4</th>\n      <td>dataSET\\one\\green\\diamond\\empty\\2.png</td>\n      <td>0</td>\n      <td>1</td>\n      <td>0</td>\n      <td>1</td>\n      <td>0</td>\n      <td>0</td>\n      <td>1</td>\n      <td>0</td>\n      <td>0</td>\n      <td>1</td>\n      <td>0</td>\n      <td>0</td>\n    </tr>\n    <tr>\n      <th>5</th>\n      <td>dataSET\\one\\green\\diamond\\empty\\205.png</td>\n      <td>0</td>\n      <td>1</td>\n      <td>0</td>\n      <td>1</td>\n      <td>0</td>\n      <td>0</td>\n      <td>1</td>\n      <td>0</td>\n      <td>0</td>\n      <td>1</td>\n      <td>0</td>\n      <td>0</td>\n    </tr>\n    <tr>\n      <th>6</th>\n      <td>dataSET\\one\\green\\diamond\\empty\\222.png</td>\n      <td>0</td>\n      <td>1</td>\n      <td>0</td>\n      <td>1</td>\n      <td>0</td>\n      <td>0</td>\n      <td>1</td>\n      <td>0</td>\n      <td>0</td>\n      <td>1</td>\n      <td>0</td>\n      <td>0</td>\n    </tr>\n    <tr>\n      <th>7</th>\n      <td>dataSET\\one\\green\\diamond\\empty\\254.png</td>\n      <td>0</td>\n      <td>1</td>\n      <td>0</td>\n      <td>1</td>\n      <td>0</td>\n      <td>0</td>\n      <td>1</td>\n      <td>0</td>\n      <td>0</td>\n      <td>1</td>\n      <td>0</td>\n      <td>0</td>\n    </tr>\n    <tr>\n      <th>8</th>\n      <td>dataSET\\one\\green\\diamond\\empty\\286.png</td>\n      <td>0</td>\n      <td>1</td>\n      <td>0</td>\n      <td>1</td>\n      <td>0</td>\n      <td>0</td>\n      <td>1</td>\n      <td>0</td>\n      <td>0</td>\n      <td>1</td>\n      <td>0</td>\n      <td>0</td>\n    </tr>\n    <tr>\n      <th>9</th>\n      <td>dataSET\\one\\green\\diamond\\empty\\31.png</td>\n      <td>0</td>\n      <td>1</td>\n      <td>0</td>\n      <td>1</td>\n      <td>0</td>\n      <td>0</td>\n      <td>1</td>\n      <td>0</td>\n      <td>0</td>\n      <td>1</td>\n      <td>0</td>\n      <td>0</td>\n    </tr>\n    <tr>\n      <th>10</th>\n      <td>dataSET\\one\\green\\diamond\\empty\\325.png</td>\n      <td>0</td>\n      <td>1</td>\n      <td>0</td>\n      <td>1</td>\n      <td>0</td>\n      <td>0</td>\n      <td>1</td>\n      <td>0</td>\n      <td>0</td>\n      <td>1</td>\n      <td>0</td>\n      <td>0</td>\n    </tr>\n    <tr>\n      <th>11</th>\n      <td>dataSET\\one\\green\\diamond\\empty\\381.png</td>\n      <td>0</td>\n      <td>1</td>\n      <td>0</td>\n      <td>1</td>\n      <td>0</td>\n      <td>0</td>\n      <td>1</td>\n      <td>0</td>\n      <td>0</td>\n      <td>1</td>\n      <td>0</td>\n      <td>0</td>\n    </tr>\n    <tr>\n      <th>12</th>\n      <td>dataSET\\one\\green\\diamond\\empty\\4.png</td>\n      <td>0</td>\n      <td>1</td>\n      <td>0</td>\n      <td>1</td>\n      <td>0</td>\n      <td>0</td>\n      <td>1</td>\n      <td>0</td>\n      <td>0</td>\n      <td>1</td>\n      <td>0</td>\n      <td>0</td>\n    </tr>\n    <tr>\n      <th>13</th>\n      <td>dataSET\\one\\green\\diamond\\empty\\452.png</td>\n      <td>0</td>\n      <td>1</td>\n      <td>0</td>\n      <td>1</td>\n      <td>0</td>\n      <td>0</td>\n      <td>1</td>\n      <td>0</td>\n      <td>0</td>\n      <td>1</td>\n      <td>0</td>\n      <td>0</td>\n    </tr>\n    <tr>\n      <th>14</th>\n      <td>dataSET\\one\\green\\diamond\\empty\\494.png</td>\n      <td>0</td>\n      <td>1</td>\n      <td>0</td>\n      <td>1</td>\n      <td>0</td>\n      <td>0</td>\n      <td>1</td>\n      <td>0</td>\n      <td>0</td>\n      <td>1</td>\n      <td>0</td>\n      <td>0</td>\n    </tr>\n    <tr>\n      <th>15</th>\n      <td>dataSET\\one\\green\\diamond\\empty\\513.png</td>\n      <td>0</td>\n      <td>1</td>\n      <td>0</td>\n      <td>1</td>\n      <td>0</td>\n      <td>0</td>\n      <td>1</td>\n      <td>0</td>\n      <td>0</td>\n      <td>1</td>\n      <td>0</td>\n      <td>0</td>\n    </tr>\n    <tr>\n      <th>16</th>\n      <td>dataSET\\one\\green\\diamond\\empty\\585.png</td>\n      <td>0</td>\n      <td>1</td>\n      <td>0</td>\n      <td>1</td>\n      <td>0</td>\n      <td>0</td>\n      <td>1</td>\n      <td>0</td>\n      <td>0</td>\n      <td>1</td>\n      <td>0</td>\n      <td>0</td>\n    </tr>\n    <tr>\n      <th>17</th>\n      <td>dataSET\\one\\green\\diamond\\empty\\65.png</td>\n      <td>0</td>\n      <td>1</td>\n      <td>0</td>\n      <td>1</td>\n      <td>0</td>\n      <td>0</td>\n      <td>1</td>\n      <td>0</td>\n      <td>0</td>\n      <td>1</td>\n      <td>0</td>\n      <td>0</td>\n    </tr>\n    <tr>\n      <th>18</th>\n      <td>dataSET\\one\\green\\diamond\\empty\\74.png</td>\n      <td>0</td>\n      <td>1</td>\n      <td>0</td>\n      <td>1</td>\n      <td>0</td>\n      <td>0</td>\n      <td>1</td>\n      <td>0</td>\n      <td>0</td>\n      <td>1</td>\n      <td>0</td>\n      <td>0</td>\n    </tr>\n    <tr>\n      <th>19</th>\n      <td>dataSET\\one\\green\\diamond\\empty\\old (16).png</td>\n      <td>0</td>\n      <td>1</td>\n      <td>0</td>\n      <td>1</td>\n      <td>0</td>\n      <td>0</td>\n      <td>1</td>\n      <td>0</td>\n      <td>0</td>\n      <td>1</td>\n      <td>0</td>\n      <td>0</td>\n    </tr>\n    <tr>\n      <th>20</th>\n      <td>dataSET\\one\\green\\diamond\\empty\\tytyt (122).png</td>\n      <td>0</td>\n      <td>1</td>\n      <td>0</td>\n      <td>1</td>\n      <td>0</td>\n      <td>0</td>\n      <td>1</td>\n      <td>0</td>\n      <td>0</td>\n      <td>1</td>\n      <td>0</td>\n      <td>0</td>\n    </tr>\n    <tr>\n      <th>21</th>\n      <td>dataSET\\one\\green\\diamond\\empty\\tytyt (198).png</td>\n      <td>0</td>\n      <td>1</td>\n      <td>0</td>\n      <td>1</td>\n      <td>0</td>\n      <td>0</td>\n      <td>1</td>\n      <td>0</td>\n      <td>0</td>\n      <td>1</td>\n      <td>0</td>\n      <td>0</td>\n    </tr>\n    <tr>\n      <th>22</th>\n      <td>dataSET\\one\\green\\diamond\\empty\\tytyt (62).png</td>\n      <td>0</td>\n      <td>1</td>\n      <td>0</td>\n      <td>1</td>\n      <td>0</td>\n      <td>0</td>\n      <td>1</td>\n      <td>0</td>\n      <td>0</td>\n      <td>1</td>\n      <td>0</td>\n      <td>0</td>\n    </tr>\n    <tr>\n      <th>23</th>\n      <td>dataSET\\one\\green\\diamond\\empty\\z (5).png</td>\n      <td>0</td>\n      <td>1</td>\n      <td>0</td>\n      <td>1</td>\n      <td>0</td>\n      <td>0</td>\n      <td>1</td>\n      <td>0</td>\n      <td>0</td>\n      <td>1</td>\n      <td>0</td>\n      <td>0</td>\n    </tr>\n    <tr>\n      <th>24</th>\n      <td>dataSET\\one\\green\\diamond\\full\\148.png</td>\n      <td>0</td>\n      <td>1</td>\n      <td>0</td>\n      <td>1</td>\n      <td>0</td>\n      <td>0</td>\n      <td>0</td>\n      <td>0</td>\n      <td>1</td>\n      <td>1</td>\n      <td>0</td>\n      <td>0</td>\n    </tr>\n    <tr>\n      <th>25</th>\n      <td>dataSET\\one\\green\\diamond\\full\\169.png</td>\n      <td>0</td>\n      <td>1</td>\n      <td>0</td>\n      <td>1</td>\n      <td>0</td>\n      <td>0</td>\n      <td>0</td>\n      <td>0</td>\n      <td>1</td>\n      <td>1</td>\n      <td>0</td>\n      <td>0</td>\n    </tr>\n    <tr>\n      <th>26</th>\n      <td>dataSET\\one\\green\\diamond\\full\\171.png</td>\n      <td>0</td>\n      <td>1</td>\n      <td>0</td>\n      <td>1</td>\n      <td>0</td>\n      <td>0</td>\n      <td>0</td>\n      <td>0</td>\n      <td>1</td>\n      <td>1</td>\n      <td>0</td>\n      <td>0</td>\n    </tr>\n    <tr>\n      <th>27</th>\n      <td>dataSET\\one\\green\\diamond\\full\\173.png</td>\n      <td>0</td>\n      <td>1</td>\n      <td>0</td>\n      <td>1</td>\n      <td>0</td>\n      <td>0</td>\n      <td>0</td>\n      <td>0</td>\n      <td>1</td>\n      <td>1</td>\n      <td>0</td>\n      <td>0</td>\n    </tr>\n    <tr>\n      <th>28</th>\n      <td>dataSET\\one\\green\\diamond\\full\\188.png</td>\n      <td>0</td>\n      <td>1</td>\n      <td>0</td>\n      <td>1</td>\n      <td>0</td>\n      <td>0</td>\n      <td>0</td>\n      <td>0</td>\n      <td>1</td>\n      <td>1</td>\n      <td>0</td>\n      <td>0</td>\n    </tr>\n    <tr>\n      <th>29</th>\n      <td>dataSET\\one\\green\\diamond\\full\\21.png</td>\n      <td>0</td>\n      <td>1</td>\n      <td>0</td>\n      <td>1</td>\n      <td>0</td>\n      <td>0</td>\n      <td>0</td>\n      <td>0</td>\n      <td>1</td>\n      <td>1</td>\n      <td>0</td>\n      <td>0</td>\n    </tr>\n    <tr>\n      <th>30</th>\n      <td>dataSET\\one\\green\\diamond\\full\\215.png</td>\n      <td>0</td>\n      <td>1</td>\n      <td>0</td>\n      <td>1</td>\n      <td>0</td>\n      <td>0</td>\n      <td>0</td>\n      <td>0</td>\n      <td>1</td>\n      <td>1</td>\n      <td>0</td>\n      <td>0</td>\n    </tr>\n    <tr>\n      <th>31</th>\n      <td>dataSET\\one\\green\\diamond\\full\\279.png</td>\n      <td>0</td>\n      <td>1</td>\n      <td>0</td>\n      <td>1</td>\n      <td>0</td>\n      <td>0</td>\n      <td>0</td>\n      <td>0</td>\n      <td>1</td>\n      <td>1</td>\n      <td>0</td>\n      <td>0</td>\n    </tr>\n    <tr>\n      <th>32</th>\n      <td>dataSET\\one\\green\\diamond\\full\\28.png</td>\n      <td>0</td>\n      <td>1</td>\n      <td>0</td>\n      <td>1</td>\n      <td>0</td>\n      <td>0</td>\n      <td>0</td>\n      <td>0</td>\n      <td>1</td>\n      <td>1</td>\n      <td>0</td>\n      <td>0</td>\n    </tr>\n    <tr>\n      <th>33</th>\n      <td>dataSET\\one\\green\\diamond\\full\\299.png</td>\n      <td>0</td>\n      <td>1</td>\n      <td>0</td>\n      <td>1</td>\n      <td>0</td>\n      <td>0</td>\n      <td>0</td>\n      <td>0</td>\n      <td>1</td>\n      <td>1</td>\n      <td>0</td>\n      <td>0</td>\n    </tr>\n    <tr>\n      <th>34</th>\n      <td>dataSET\\one\\green\\diamond\\full\\339.png</td>\n      <td>0</td>\n      <td>1</td>\n      <td>0</td>\n      <td>1</td>\n      <td>0</td>\n      <td>0</td>\n      <td>0</td>\n      <td>0</td>\n      <td>1</td>\n      <td>1</td>\n      <td>0</td>\n      <td>0</td>\n    </tr>\n    <tr>\n      <th>35</th>\n      <td>dataSET\\one\\green\\diamond\\full\\34.png</td>\n      <td>0</td>\n      <td>1</td>\n      <td>0</td>\n      <td>1</td>\n      <td>0</td>\n      <td>0</td>\n      <td>0</td>\n      <td>0</td>\n      <td>1</td>\n      <td>1</td>\n      <td>0</td>\n      <td>0</td>\n    </tr>\n    <tr>\n      <th>36</th>\n      <td>dataSET\\one\\green\\diamond\\full\\357.png</td>\n      <td>0</td>\n      <td>1</td>\n      <td>0</td>\n      <td>1</td>\n      <td>0</td>\n      <td>0</td>\n      <td>0</td>\n      <td>0</td>\n      <td>1</td>\n      <td>1</td>\n      <td>0</td>\n      <td>0</td>\n    </tr>\n    <tr>\n      <th>37</th>\n      <td>dataSET\\one\\green\\diamond\\full\\40.png</td>\n      <td>0</td>\n      <td>1</td>\n      <td>0</td>\n      <td>1</td>\n      <td>0</td>\n      <td>0</td>\n      <td>0</td>\n      <td>0</td>\n      <td>1</td>\n      <td>1</td>\n      <td>0</td>\n      <td>0</td>\n    </tr>\n    <tr>\n      <th>38</th>\n      <td>dataSET\\one\\green\\diamond\\full\\405.png</td>\n      <td>0</td>\n      <td>1</td>\n      <td>0</td>\n      <td>1</td>\n      <td>0</td>\n      <td>0</td>\n      <td>0</td>\n      <td>0</td>\n      <td>1</td>\n      <td>1</td>\n      <td>0</td>\n      <td>0</td>\n    </tr>\n    <tr>\n      <th>39</th>\n      <td>dataSET\\one\\green\\diamond\\full\\5.png</td>\n      <td>0</td>\n      <td>1</td>\n      <td>0</td>\n      <td>1</td>\n      <td>0</td>\n      <td>0</td>\n      <td>0</td>\n      <td>0</td>\n      <td>1</td>\n      <td>1</td>\n      <td>0</td>\n      <td>0</td>\n    </tr>\n    <tr>\n      <th>40</th>\n      <td>dataSET\\one\\green\\diamond\\full\\505.png</td>\n      <td>0</td>\n      <td>1</td>\n      <td>0</td>\n      <td>1</td>\n      <td>0</td>\n      <td>0</td>\n      <td>0</td>\n      <td>0</td>\n      <td>1</td>\n      <td>1</td>\n      <td>0</td>\n      <td>0</td>\n    </tr>\n    <tr>\n      <th>41</th>\n      <td>dataSET\\one\\green\\diamond\\full\\566.png</td>\n      <td>0</td>\n      <td>1</td>\n      <td>0</td>\n      <td>1</td>\n      <td>0</td>\n      <td>0</td>\n      <td>0</td>\n      <td>0</td>\n      <td>1</td>\n      <td>1</td>\n      <td>0</td>\n      <td>0</td>\n    </tr>\n    <tr>\n      <th>42</th>\n      <td>dataSET\\one\\green\\diamond\\full\\66.png</td>\n      <td>0</td>\n      <td>1</td>\n      <td>0</td>\n      <td>1</td>\n      <td>0</td>\n      <td>0</td>\n      <td>0</td>\n      <td>0</td>\n      <td>1</td>\n      <td>1</td>\n      <td>0</td>\n      <td>0</td>\n    </tr>\n    <tr>\n      <th>43</th>\n      <td>dataSET\\one\\green\\diamond\\full\\old (87).png</td>\n      <td>0</td>\n      <td>1</td>\n      <td>0</td>\n      <td>1</td>\n      <td>0</td>\n      <td>0</td>\n      <td>0</td>\n      <td>0</td>\n      <td>1</td>\n      <td>1</td>\n      <td>0</td>\n      <td>0</td>\n    </tr>\n    <tr>\n      <th>44</th>\n      <td>dataSET\\one\\green\\diamond\\full\\tytyt (208).png</td>\n      <td>0</td>\n      <td>1</td>\n      <td>0</td>\n      <td>1</td>\n      <td>0</td>\n      <td>0</td>\n      <td>0</td>\n      <td>0</td>\n      <td>1</td>\n      <td>1</td>\n      <td>0</td>\n      <td>0</td>\n    </tr>\n    <tr>\n      <th>45</th>\n      <td>dataSET\\one\\green\\diamond\\full\\tytyt (248).png</td>\n      <td>0</td>\n      <td>1</td>\n      <td>0</td>\n      <td>1</td>\n      <td>0</td>\n      <td>0</td>\n      <td>0</td>\n      <td>0</td>\n      <td>1</td>\n      <td>1</td>\n      <td>0</td>\n      <td>0</td>\n    </tr>\n    <tr>\n      <th>46</th>\n      <td>dataSET\\one\\green\\diamond\\full\\tytyt (36).png</td>\n      <td>0</td>\n      <td>1</td>\n      <td>0</td>\n      <td>1</td>\n      <td>0</td>\n      <td>0</td>\n      <td>0</td>\n      <td>0</td>\n      <td>1</td>\n      <td>1</td>\n      <td>0</td>\n      <td>0</td>\n    </tr>\n    <tr>\n      <th>47</th>\n      <td>dataSET\\one\\green\\diamond\\full\\tytyt (9).png</td>\n      <td>0</td>\n      <td>1</td>\n      <td>0</td>\n      <td>1</td>\n      <td>0</td>\n      <td>0</td>\n      <td>0</td>\n      <td>0</td>\n      <td>1</td>\n      <td>1</td>\n      <td>0</td>\n      <td>0</td>\n    </tr>\n    <tr>\n      <th>48</th>\n      <td>dataSET\\one\\green\\diamond\\partial\\115.png</td>\n      <td>0</td>\n      <td>1</td>\n      <td>0</td>\n      <td>1</td>\n      <td>0</td>\n      <td>0</td>\n      <td>0</td>\n      <td>1</td>\n      <td>0</td>\n      <td>1</td>\n      <td>0</td>\n      <td>0</td>\n    </tr>\n    <tr>\n      <th>49</th>\n      <td>dataSET\\one\\green\\diamond\\partial\\188.png</td>\n      <td>0</td>\n      <td>1</td>\n      <td>0</td>\n      <td>1</td>\n      <td>0</td>\n      <td>0</td>\n      <td>0</td>\n      <td>1</td>\n      <td>0</td>\n      <td>1</td>\n      <td>0</td>\n      <td>0</td>\n    </tr>\n  </tbody>\n</table>\n</div>"
     },
     "metadata": {},
     "output_type": "display_data"
    }
   ],
   "source": [
    "data = get_set('./dataSET')\n",
    "\n",
    "mlb = MultiLabelBinarizer(classes=colors + nums + shades + shapes)\n",
    "labels = mlb.fit_transform(data[data.columns[1:]].values)\n",
    "label_frame = pd.DataFrame({key : row for key, row in zip(mlb.classes, labels.T)})\n",
    "binarized_data = pd.concat((data['filepath'], label_frame), axis=1)\n",
    "\n",
    "display(binarized_data.head(50))\n",
    "binarized_data.to_csv('labels.csv', index=False)"
   ],
   "metadata": {
    "collapsed": false,
    "ExecuteTime": {
     "end_time": "2023-10-04T04:32:23.611234500Z",
     "start_time": "2023-10-04T04:32:21.836964200Z"
    }
   }
  },
  {
   "cell_type": "markdown",
   "source": [
    "### Image Format\n",
    "TensorFlow Lite Model Maker requires JPEG images"
   ],
   "metadata": {
    "collapsed": false
   }
  },
  {
   "cell_type": "code",
   "execution_count": 6,
   "outputs": [],
   "source": [
    "from PIL import Image\n",
    "os.makedirs('dataSET.jpg', exist_ok=True)\n",
    "for dirpath, dirname, filenames in os.walk('dataSET'):\n",
    "    for file in filenames:\n",
    "        png = Image.open(join(dirpath, file))\n",
    "        png.save(join('dataSET.jpg', f'{\"_\".join(dirpath.split(os.sep)[1:])}_{path.splitext(file)[0]}.jpg'))"
   ],
   "metadata": {
    "collapsed": false,
    "ExecuteTime": {
     "end_time": "2023-10-04T04:32:26.730437500Z",
     "start_time": "2023-10-04T04:32:23.613230500Z"
    }
   }
  },
  {
   "cell_type": "markdown",
   "source": [
    "### XML data\n",
    "During label process, png filenames were saved to XML annotations. The code below changes them to the new jpg file extensions."
   ],
   "metadata": {
    "collapsed": false
   }
  },
  {
   "cell_type": "code",
   "execution_count": 7,
   "outputs": [],
   "source": [
    "for dirpath, dirname, filenames in os.walk('boxes'):\n",
    "    for file in filenames:\n",
    "        tree = ET.parse(join(dirpath, file))\n",
    "        root = tree.getroot()\n",
    "        \n",
    "        filename_tag = root.find('filename')\n",
    "        filename_tag.text = f'{\"_\".join(dirpath.split(os.sep)[1:])}_{path.splitext(file)[0]}.jpg'\n",
    "        \n",
    "        folder_tag = root.find('folder')\n",
    "        folder_tag.text = join(*dirpath.split(os.sep)[1:])\n",
    "        tree.write(join(dirpath, file))"
   ],
   "metadata": {
    "collapsed": false,
    "ExecuteTime": {
     "end_time": "2023-10-04T04:32:27.614797700Z",
     "start_time": "2023-10-04T04:32:26.733438900Z"
    }
   }
  },
  {
   "cell_type": "code",
   "execution_count": 6,
   "outputs": [],
   "source": [
    "def split():\n",
    "    annotations = [relpath(join(dirpath, path.splitext(file)[0]), 'boxes') for (dirpath, dirnames, filenames) in os.walk('boxes') for file in filenames]\n",
    "    random.shuffle(annotations)\n",
    "    train_annotations = []\n",
    "    validation_annotations = []\n",
    "    test_annotations = []\n",
    "    for i in range(len(annotations)):\n",
    "        if i < .8 * len(annotations):\n",
    "            train_annotations.append(annotations[i])\n",
    "        elif i < .9 * len(annotations):\n",
    "            validation_annotations.append(annotations[i])\n",
    "        else:\n",
    "            test_annotations.append(annotations[i])\n",
    "\n",
    "    train_data = object_detector.DataLoader.from_pascal_voc(images_dir='dataSET.jpg', annotations_dir='boxes', annotation_filenames=train_annotations, label_map=label_names)\n",
    "    validation_data = object_detector.DataLoader.from_pascal_voc(images_dir='dataSET.jpg', annotations_dir='boxes', annotation_filenames=validation_annotations, label_map=label_names)\n",
    "    test_data = object_detector.DataLoader.from_pascal_voc(images_dir='dataSET.jpg', annotations_dir='boxes', annotation_filenames=test_annotations, label_map=label_names)\n",
    "    \n",
    "    return train_data, validation_data, test_data"
   ],
   "metadata": {
    "collapsed": false,
    "ExecuteTime": {
     "end_time": "2023-10-04T14:35:20.440824300Z",
     "start_time": "2023-10-04T14:35:20.428009800Z"
    }
   }
  },
  {
   "cell_type": "code",
   "execution_count": 9,
   "outputs": [],
   "source": [
    "train_data, val_data, test_data = split()"
   ],
   "metadata": {
    "collapsed": false,
    "ExecuteTime": {
     "end_time": "2023-10-04T14:36:14.823329800Z",
     "start_time": "2023-10-04T14:36:11.591420100Z"
    }
   }
  },
  {
   "cell_type": "code",
   "execution_count": 18,
   "outputs": [],
   "source": [
    "low_latency_spec = model_spec.get('efficientdet_lite0')\n",
    "high_precision_spec = model_spec.get('efficientdet_lite4')"
   ],
   "metadata": {
    "collapsed": false,
    "ExecuteTime": {
     "end_time": "2023-10-04T14:45:09.175582300Z",
     "start_time": "2023-10-04T14:45:09.144522300Z"
    }
   }
  },
  {
   "cell_type": "code",
   "execution_count": null,
   "outputs": [],
   "source": [
    "low_latency_model = object_detector.create(train_data, model_spec=low_latency_spec, validation_data=val_data)\n",
    "low_latency_model.export(tflite_filename='ll_model.tflite', export_dir='.')"
   ],
   "metadata": {
    "collapsed": false
   }
  },
  {
   "cell_type": "code",
   "execution_count": 28,
   "outputs": [
    {
     "name": "stdout",
     "output_type": "stream",
     "text": [
      "Epoch 1/50\n",
      "22/22 [==============================] - 145s 6s/step - det_loss: 2.2874 - cls_loss: 1.7767 - box_loss: 0.0102 - reg_l2_loss: 0.0184 - loss: 2.3059 - learning_rate: 0.0439 - gradient_norm: 0.4848 - val_det_loss: 2.2706 - val_cls_loss: 1.8240 - val_box_loss: 0.0089 - val_reg_l2_loss: 0.0184 - val_loss: 2.2891\n",
      "Epoch 2/50\n",
      "22/22 [==============================] - 131s 6s/step - det_loss: 1.9870 - cls_loss: 1.7232 - box_loss: 0.0053 - reg_l2_loss: 0.0185 - loss: 2.0055 - learning_rate: 0.0798 - gradient_norm: 0.5031 - val_det_loss: 2.1309 - val_cls_loss: 1.7691 - val_box_loss: 0.0072 - val_reg_l2_loss: 0.0185 - val_loss: 2.1493\n",
      "Epoch 3/50\n",
      "22/22 [==============================] - 132s 6s/step - det_loss: 1.8110 - cls_loss: 1.6508 - box_loss: 0.0032 - reg_l2_loss: 0.0185 - loss: 1.8295 - learning_rate: 0.0795 - gradient_norm: 0.6616 - val_det_loss: 1.9400 - val_cls_loss: 1.6852 - val_box_loss: 0.0051 - val_reg_l2_loss: 0.0185 - val_loss: 1.9586\n",
      "Epoch 4/50\n",
      "22/22 [==============================] - 130s 6s/step - det_loss: 1.6358 - cls_loss: 1.5177 - box_loss: 0.0024 - reg_l2_loss: 0.0185 - loss: 1.6544 - learning_rate: 0.0790 - gradient_norm: 0.6299 - val_det_loss: 1.7628 - val_cls_loss: 1.5013 - val_box_loss: 0.0052 - val_reg_l2_loss: 0.0186 - val_loss: 1.7814\n",
      "Epoch 5/50\n",
      "22/22 [==============================] - 224s 10s/step - det_loss: 1.3405 - cls_loss: 1.2331 - box_loss: 0.0021 - reg_l2_loss: 0.0186 - loss: 1.3592 - learning_rate: 0.0783 - gradient_norm: 0.7030 - val_det_loss: 1.2713 - val_cls_loss: 1.1352 - val_box_loss: 0.0027 - val_reg_l2_loss: 0.0187 - val_loss: 1.2901\n",
      "Epoch 6/50\n",
      "22/22 [==============================] - 131s 6s/step - det_loss: 1.0912 - cls_loss: 0.9949 - box_loss: 0.0019 - reg_l2_loss: 0.0188 - loss: 1.1100 - learning_rate: 0.0775 - gradient_norm: 0.6706 - val_det_loss: 1.2420 - val_cls_loss: 1.0469 - val_box_loss: 0.0039 - val_reg_l2_loss: 0.0189 - val_loss: 1.2609\n",
      "Epoch 7/50\n",
      "22/22 [==============================] - 133s 6s/step - det_loss: 0.9920 - cls_loss: 0.9087 - box_loss: 0.0017 - reg_l2_loss: 0.0189 - loss: 1.0109 - learning_rate: 0.0766 - gradient_norm: 0.5061 - val_det_loss: 1.1543 - val_cls_loss: 1.0222 - val_box_loss: 0.0026 - val_reg_l2_loss: 0.0189 - val_loss: 1.1732\n",
      "Epoch 8/50\n",
      "22/22 [==============================] - 133s 6s/step - det_loss: 0.9472 - cls_loss: 0.8627 - box_loss: 0.0017 - reg_l2_loss: 0.0189 - loss: 0.9662 - learning_rate: 0.0755 - gradient_norm: 0.6084 - val_det_loss: 1.0561 - val_cls_loss: 0.9291 - val_box_loss: 0.0025 - val_reg_l2_loss: 0.0190 - val_loss: 1.0751\n",
      "Epoch 9/50\n",
      "22/22 [==============================] - 134s 6s/step - det_loss: 0.9095 - cls_loss: 0.8335 - box_loss: 0.0015 - reg_l2_loss: 0.0190 - loss: 0.9285 - learning_rate: 0.0742 - gradient_norm: 0.5847 - val_det_loss: 0.9416 - val_cls_loss: 0.8766 - val_box_loss: 0.0013 - val_reg_l2_loss: 0.0190 - val_loss: 0.9606\n",
      "Epoch 10/50\n",
      "22/22 [==============================] - 139s 6s/step - det_loss: 0.8889 - cls_loss: 0.8135 - box_loss: 0.0015 - reg_l2_loss: 0.0190 - loss: 0.9079 - learning_rate: 0.0728 - gradient_norm: 0.5594 - val_det_loss: 1.0370 - val_cls_loss: 0.9225 - val_box_loss: 0.0023 - val_reg_l2_loss: 0.0190 - val_loss: 1.0560\n",
      "Epoch 11/50\n",
      "22/22 [==============================] - 134s 6s/step - det_loss: 0.8711 - cls_loss: 0.7963 - box_loss: 0.0015 - reg_l2_loss: 0.0190 - loss: 0.8901 - learning_rate: 0.0713 - gradient_norm: 0.5624 - val_det_loss: 1.0364 - val_cls_loss: 0.9003 - val_box_loss: 0.0027 - val_reg_l2_loss: 0.0190 - val_loss: 1.0554\n",
      "Epoch 12/50\n",
      "22/22 [==============================] - 133s 6s/step - det_loss: 0.8562 - cls_loss: 0.7821 - box_loss: 0.0015 - reg_l2_loss: 0.0190 - loss: 0.8753 - learning_rate: 0.0696 - gradient_norm: 0.5962 - val_det_loss: 0.9794 - val_cls_loss: 0.8406 - val_box_loss: 0.0028 - val_reg_l2_loss: 0.0190 - val_loss: 0.9984\n",
      "Epoch 13/50\n",
      "22/22 [==============================] - 133s 6s/step - det_loss: 0.8434 - cls_loss: 0.7699 - box_loss: 0.0015 - reg_l2_loss: 0.0190 - loss: 0.8624 - learning_rate: 0.0678 - gradient_norm: 0.5653 - val_det_loss: 1.0382 - val_cls_loss: 0.8836 - val_box_loss: 0.0031 - val_reg_l2_loss: 0.0190 - val_loss: 1.0573\n",
      "Epoch 14/50\n",
      "22/22 [==============================] - 133s 6s/step - det_loss: 0.8273 - cls_loss: 0.7538 - box_loss: 0.0015 - reg_l2_loss: 0.0190 - loss: 0.8463 - learning_rate: 0.0659 - gradient_norm: 0.6138 - val_det_loss: 0.9554 - val_cls_loss: 0.8109 - val_box_loss: 0.0029 - val_reg_l2_loss: 0.0190 - val_loss: 0.9744\n",
      "Epoch 15/50\n",
      "22/22 [==============================] - 139s 6s/step - det_loss: 0.8129 - cls_loss: 0.7453 - box_loss: 0.0014 - reg_l2_loss: 0.0190 - loss: 0.8319 - learning_rate: 0.0639 - gradient_norm: 0.5446 - val_det_loss: 0.9146 - val_cls_loss: 0.7923 - val_box_loss: 0.0024 - val_reg_l2_loss: 0.0191 - val_loss: 0.9337\n",
      "Epoch 16/50\n",
      "22/22 [==============================] - 133s 6s/step - det_loss: 0.8001 - cls_loss: 0.7345 - box_loss: 0.0013 - reg_l2_loss: 0.0191 - loss: 0.8191 - learning_rate: 0.0618 - gradient_norm: 0.5217 - val_det_loss: 0.9111 - val_cls_loss: 0.7552 - val_box_loss: 0.0031 - val_reg_l2_loss: 0.0191 - val_loss: 0.9301\n",
      "Epoch 17/50\n",
      "22/22 [==============================] - 134s 6s/step - det_loss: 0.7865 - cls_loss: 0.7213 - box_loss: 0.0013 - reg_l2_loss: 0.0191 - loss: 0.8055 - learning_rate: 0.0596 - gradient_norm: 0.5423 - val_det_loss: 0.9361 - val_cls_loss: 0.7762 - val_box_loss: 0.0032 - val_reg_l2_loss: 0.0191 - val_loss: 0.9552\n",
      "Epoch 18/50\n",
      "22/22 [==============================] - 134s 6s/step - det_loss: 0.7759 - cls_loss: 0.7106 - box_loss: 0.0013 - reg_l2_loss: 0.0191 - loss: 0.7950 - learning_rate: 0.0574 - gradient_norm: 0.5657 - val_det_loss: 0.9270 - val_cls_loss: 0.8184 - val_box_loss: 0.0022 - val_reg_l2_loss: 0.0191 - val_loss: 0.9461\n",
      "Epoch 19/50\n",
      "22/22 [==============================] - 134s 6s/step - det_loss: 0.7629 - cls_loss: 0.7006 - box_loss: 0.0012 - reg_l2_loss: 0.0191 - loss: 0.7820 - learning_rate: 0.0550 - gradient_norm: 0.5283 - val_det_loss: 0.8949 - val_cls_loss: 0.7909 - val_box_loss: 0.0021 - val_reg_l2_loss: 0.0191 - val_loss: 0.9139\n",
      "Epoch 20/50\n",
      "22/22 [==============================] - 139s 6s/step - det_loss: 0.7490 - cls_loss: 0.6895 - box_loss: 0.0012 - reg_l2_loss: 0.0191 - loss: 0.7681 - learning_rate: 0.0526 - gradient_norm: 0.5168 - val_det_loss: 0.8679 - val_cls_loss: 0.7541 - val_box_loss: 0.0023 - val_reg_l2_loss: 0.0191 - val_loss: 0.8870\n",
      "Epoch 21/50\n",
      "22/22 [==============================] - 135s 6s/step - det_loss: 0.7454 - cls_loss: 0.6852 - box_loss: 0.0012 - reg_l2_loss: 0.0191 - loss: 0.7645 - learning_rate: 0.0501 - gradient_norm: 0.5413 - val_det_loss: 0.9037 - val_cls_loss: 0.7839 - val_box_loss: 0.0024 - val_reg_l2_loss: 0.0191 - val_loss: 0.9228\n",
      "Epoch 22/50\n",
      "22/22 [==============================] - 135s 6s/step - det_loss: 0.7395 - cls_loss: 0.6790 - box_loss: 0.0012 - reg_l2_loss: 0.0191 - loss: 0.7586 - learning_rate: 0.0476 - gradient_norm: 0.4944 - val_det_loss: 0.9147 - val_cls_loss: 0.7757 - val_box_loss: 0.0028 - val_reg_l2_loss: 0.0191 - val_loss: 0.9338\n",
      "Epoch 23/50\n",
      "22/22 [==============================] - 134s 6s/step - det_loss: 0.7302 - cls_loss: 0.6706 - box_loss: 0.0012 - reg_l2_loss: 0.0191 - loss: 0.7493 - learning_rate: 0.0451 - gradient_norm: 0.5483 - val_det_loss: 0.8337 - val_cls_loss: 0.7012 - val_box_loss: 0.0026 - val_reg_l2_loss: 0.0191 - val_loss: 0.8527\n",
      "Epoch 24/50\n",
      "22/22 [==============================] - 134s 6s/step - det_loss: 0.7256 - cls_loss: 0.6677 - box_loss: 0.0012 - reg_l2_loss: 0.0191 - loss: 0.7447 - learning_rate: 0.0426 - gradient_norm: 0.4937 - val_det_loss: 0.8367 - val_cls_loss: 0.7244 - val_box_loss: 0.0022 - val_reg_l2_loss: 0.0191 - val_loss: 0.8558\n",
      "Epoch 25/50\n",
      "22/22 [==============================] - 139s 6s/step - det_loss: 0.7137 - cls_loss: 0.6569 - box_loss: 0.0011 - reg_l2_loss: 0.0191 - loss: 0.7328 - learning_rate: 0.0400 - gradient_norm: 0.4792 - val_det_loss: 0.7943 - val_cls_loss: 0.6894 - val_box_loss: 0.0021 - val_reg_l2_loss: 0.0191 - val_loss: 0.8134\n",
      "Epoch 26/50\n",
      "22/22 [==============================] - 134s 6s/step - det_loss: 0.7084 - cls_loss: 0.6511 - box_loss: 0.0011 - reg_l2_loss: 0.0191 - loss: 0.7275 - learning_rate: 0.0374 - gradient_norm: 0.5075 - val_det_loss: 0.8200 - val_cls_loss: 0.7069 - val_box_loss: 0.0023 - val_reg_l2_loss: 0.0191 - val_loss: 0.8391\n",
      "Epoch 27/50\n",
      "22/22 [==============================] - 134s 6s/step - det_loss: 0.7016 - cls_loss: 0.6437 - box_loss: 0.0012 - reg_l2_loss: 0.0191 - loss: 0.7207 - learning_rate: 0.0349 - gradient_norm: 0.5155 - val_det_loss: 0.8178 - val_cls_loss: 0.6938 - val_box_loss: 0.0025 - val_reg_l2_loss: 0.0191 - val_loss: 0.8369\n",
      "Epoch 28/50\n",
      "22/22 [==============================] - 133s 6s/step - det_loss: 0.6917 - cls_loss: 0.6363 - box_loss: 0.0011 - reg_l2_loss: 0.0191 - loss: 0.7108 - learning_rate: 0.0324 - gradient_norm: 0.4938 - val_det_loss: 0.7876 - val_cls_loss: 0.6856 - val_box_loss: 0.0020 - val_reg_l2_loss: 0.0191 - val_loss: 0.8067\n",
      "Epoch 29/50\n",
      "22/22 [==============================] - 134s 6s/step - det_loss: 0.6891 - cls_loss: 0.6361 - box_loss: 0.0011 - reg_l2_loss: 0.0191 - loss: 0.7082 - learning_rate: 0.0299 - gradient_norm: 0.4814 - val_det_loss: 0.7839 - val_cls_loss: 0.6638 - val_box_loss: 0.0024 - val_reg_l2_loss: 0.0191 - val_loss: 0.8030\n",
      "Epoch 30/50\n",
      "22/22 [==============================] - 139s 6s/step - det_loss: 0.6858 - cls_loss: 0.6285 - box_loss: 0.0011 - reg_l2_loss: 0.0191 - loss: 0.7049 - learning_rate: 0.0274 - gradient_norm: 0.5558 - val_det_loss: 0.7917 - val_cls_loss: 0.6542 - val_box_loss: 0.0027 - val_reg_l2_loss: 0.0191 - val_loss: 0.8108\n",
      "Epoch 31/50\n",
      "22/22 [==============================] - 134s 6s/step - det_loss: 0.6798 - cls_loss: 0.6248 - box_loss: 0.0011 - reg_l2_loss: 0.0191 - loss: 0.6989 - learning_rate: 0.0250 - gradient_norm: 0.4818 - val_det_loss: 0.7668 - val_cls_loss: 0.6439 - val_box_loss: 0.0025 - val_reg_l2_loss: 0.0191 - val_loss: 0.7859\n",
      "Epoch 32/50\n",
      "22/22 [==============================] - 134s 6s/step - det_loss: 0.6764 - cls_loss: 0.6220 - box_loss: 0.0011 - reg_l2_loss: 0.0191 - loss: 0.6955 - learning_rate: 0.0227 - gradient_norm: 0.5050 - val_det_loss: 0.7964 - val_cls_loss: 0.6548 - val_box_loss: 0.0028 - val_reg_l2_loss: 0.0191 - val_loss: 0.8155\n",
      "Epoch 33/50\n",
      "22/22 [==============================] - 134s 6s/step - det_loss: 0.6755 - cls_loss: 0.6212 - box_loss: 0.0011 - reg_l2_loss: 0.0191 - loss: 0.6946 - learning_rate: 0.0204 - gradient_norm: 0.5300 - val_det_loss: 0.7793 - val_cls_loss: 0.6578 - val_box_loss: 0.0024 - val_reg_l2_loss: 0.0191 - val_loss: 0.7984\n",
      "Epoch 34/50\n",
      "22/22 [==============================] - 133s 6s/step - det_loss: 0.6659 - cls_loss: 0.6150 - box_loss: 0.0010 - reg_l2_loss: 0.0191 - loss: 0.6850 - learning_rate: 0.0182 - gradient_norm: 0.4936 - val_det_loss: 0.7605 - val_cls_loss: 0.6381 - val_box_loss: 0.0024 - val_reg_l2_loss: 0.0191 - val_loss: 0.7796\n",
      "Epoch 35/50\n",
      "22/22 [==============================] - 138s 6s/step - det_loss: 0.6607 - cls_loss: 0.6112 - box_loss: 9.8954e-04 - reg_l2_loss: 0.0191 - loss: 0.6798 - learning_rate: 0.0161 - gradient_norm: 0.4551 - val_det_loss: 0.7302 - val_cls_loss: 0.6165 - val_box_loss: 0.0023 - val_reg_l2_loss: 0.0191 - val_loss: 0.7493\n",
      "Epoch 36/50\n",
      "22/22 [==============================] - 133s 6s/step - det_loss: 0.6628 - cls_loss: 0.6101 - box_loss: 0.0011 - reg_l2_loss: 0.0191 - loss: 0.6819 - learning_rate: 0.0141 - gradient_norm: 0.4715 - val_det_loss: 0.7663 - val_cls_loss: 0.6295 - val_box_loss: 0.0027 - val_reg_l2_loss: 0.0191 - val_loss: 0.7854\n",
      "Epoch 37/50\n",
      "22/22 [==============================] - 134s 6s/step - det_loss: 0.6589 - cls_loss: 0.6088 - box_loss: 0.0010 - reg_l2_loss: 0.0191 - loss: 0.6780 - learning_rate: 0.0122 - gradient_norm: 0.4901 - val_det_loss: 0.7584 - val_cls_loss: 0.6343 - val_box_loss: 0.0025 - val_reg_l2_loss: 0.0191 - val_loss: 0.7775\n",
      "Epoch 38/50\n",
      "22/22 [==============================] - 132s 6s/step - det_loss: 0.6548 - cls_loss: 0.6032 - box_loss: 0.0010 - reg_l2_loss: 0.0191 - loss: 0.6739 - learning_rate: 0.0104 - gradient_norm: 0.4743 - val_det_loss: 0.7445 - val_cls_loss: 0.6248 - val_box_loss: 0.0024 - val_reg_l2_loss: 0.0191 - val_loss: 0.7636\n",
      "Epoch 39/50\n",
      "22/22 [==============================] - 133s 6s/step - det_loss: 0.6530 - cls_loss: 0.6029 - box_loss: 0.0010 - reg_l2_loss: 0.0191 - loss: 0.6721 - learning_rate: 0.0087 - gradient_norm: 0.4893 - val_det_loss: 0.7562 - val_cls_loss: 0.6325 - val_box_loss: 0.0025 - val_reg_l2_loss: 0.0191 - val_loss: 0.7753\n",
      "Epoch 40/50\n",
      "22/22 [==============================] - 139s 6s/step - det_loss: 0.6517 - cls_loss: 0.6019 - box_loss: 9.9705e-04 - reg_l2_loss: 0.0191 - loss: 0.6708 - learning_rate: 0.0072 - gradient_norm: 0.4894 - val_det_loss: 0.7389 - val_cls_loss: 0.6221 - val_box_loss: 0.0023 - val_reg_l2_loss: 0.0191 - val_loss: 0.7580\n",
      "Epoch 41/50\n",
      "22/22 [==============================] - 133s 6s/step - det_loss: 0.6565 - cls_loss: 0.6036 - box_loss: 0.0011 - reg_l2_loss: 0.0191 - loss: 0.6756 - learning_rate: 0.0058 - gradient_norm: 0.4669 - val_det_loss: 0.7419 - val_cls_loss: 0.6189 - val_box_loss: 0.0025 - val_reg_l2_loss: 0.0191 - val_loss: 0.7610\n",
      "Epoch 42/50\n",
      "22/22 [==============================] - 133s 6s/step - det_loss: 0.6498 - cls_loss: 0.5996 - box_loss: 0.0010 - reg_l2_loss: 0.0191 - loss: 0.6689 - learning_rate: 0.0045 - gradient_norm: 0.4738 - val_det_loss: 0.7402 - val_cls_loss: 0.6175 - val_box_loss: 0.0025 - val_reg_l2_loss: 0.0191 - val_loss: 0.7593\n",
      "Epoch 43/50\n",
      "22/22 [==============================] - 132s 6s/step - det_loss: 0.6487 - cls_loss: 0.6000 - box_loss: 9.7359e-04 - reg_l2_loss: 0.0191 - loss: 0.6678 - learning_rate: 0.0034 - gradient_norm: 0.4625 - val_det_loss: 0.7330 - val_cls_loss: 0.6115 - val_box_loss: 0.0024 - val_reg_l2_loss: 0.0191 - val_loss: 0.7521\n",
      "Epoch 44/50\n",
      "22/22 [==============================] - 133s 6s/step - det_loss: 0.6463 - cls_loss: 0.5964 - box_loss: 9.9985e-04 - reg_l2_loss: 0.0191 - loss: 0.6654 - learning_rate: 0.0025 - gradient_norm: 0.4676 - val_det_loss: 0.7267 - val_cls_loss: 0.6097 - val_box_loss: 0.0023 - val_reg_l2_loss: 0.0191 - val_loss: 0.7458\n",
      "Epoch 45/50\n",
      "22/22 [==============================] - 139s 6s/step - det_loss: 0.6485 - cls_loss: 0.5964 - box_loss: 0.0010 - reg_l2_loss: 0.0191 - loss: 0.6676 - learning_rate: 0.0017 - gradient_norm: 0.4881 - val_det_loss: 0.7269 - val_cls_loss: 0.6116 - val_box_loss: 0.0023 - val_reg_l2_loss: 0.0191 - val_loss: 0.7460\n",
      "Epoch 46/50\n",
      "22/22 [==============================] - 133s 6s/step - det_loss: 0.6490 - cls_loss: 0.5985 - box_loss: 0.0010 - reg_l2_loss: 0.0191 - loss: 0.6681 - learning_rate: 0.0010 - gradient_norm: 0.4582 - val_det_loss: 0.7267 - val_cls_loss: 0.6101 - val_box_loss: 0.0023 - val_reg_l2_loss: 0.0191 - val_loss: 0.7458\n",
      "Epoch 47/50\n",
      "22/22 [==============================] - 132s 6s/step - det_loss: 0.6437 - cls_loss: 0.5942 - box_loss: 9.9166e-04 - reg_l2_loss: 0.0191 - loss: 0.6628 - learning_rate: 5.2076e-04 - gradient_norm: 0.4614 - val_det_loss: 0.7269 - val_cls_loss: 0.6092 - val_box_loss: 0.0024 - val_reg_l2_loss: 0.0191 - val_loss: 0.7460\n",
      "Epoch 48/50\n",
      "22/22 [==============================] - 132s 6s/step - det_loss: 0.6479 - cls_loss: 0.5953 - box_loss: 0.0011 - reg_l2_loss: 0.0191 - loss: 0.6669 - learning_rate: 1.9261e-04 - gradient_norm: 0.4676 - val_det_loss: 0.7287 - val_cls_loss: 0.6096 - val_box_loss: 0.0024 - val_reg_l2_loss: 0.0191 - val_loss: 0.7478\n",
      "Epoch 49/50\n",
      "22/22 [==============================] - 132s 6s/step - det_loss: 0.6483 - cls_loss: 0.5983 - box_loss: 9.9990e-04 - reg_l2_loss: 0.0191 - loss: 0.6674 - learning_rate: 2.8028e-05 - gradient_norm: 0.4624 - val_det_loss: 0.7271 - val_cls_loss: 0.6092 - val_box_loss: 0.0024 - val_reg_l2_loss: 0.0191 - val_loss: 0.7462\n",
      "Epoch 50/50\n",
      "22/22 [==============================] - 138s 6s/step - det_loss: 0.6469 - cls_loss: 0.5968 - box_loss: 0.0010 - reg_l2_loss: 0.0191 - loss: 0.6659 - learning_rate: 2.7704e-05 - gradient_norm: 0.4580 - val_det_loss: 0.7259 - val_cls_loss: 0.6087 - val_box_loss: 0.0023 - val_reg_l2_loss: 0.0191 - val_loss: 0.7450\n"
     ]
    }
   ],
   "source": [
    "high_precision_model = object_detector.create(train_data, model_spec=low_latency_spec, validation_data=val_data)\n",
    "high_precision_model.export(tflite_filename='hp_model.tflite', export_dir='.')"
   ],
   "metadata": {
    "collapsed": false,
    "ExecuteTime": {
     "end_time": "2023-10-04T17:16:55.134162500Z",
     "start_time": "2023-10-04T15:19:52.383156700Z"
    }
   }
  },
  {
   "cell_type": "markdown",
   "source": [
    "## Results"
   ],
   "metadata": {
    "collapsed": false
   }
  },
  {
   "cell_type": "code",
   "execution_count": null,
   "outputs": [],
   "source": [
    "label_map = {num: label for num, label in zip(range(1, len(label_names) + 1), label_names)}"
   ],
   "metadata": {
    "collapsed": false
   }
  },
  {
   "cell_type": "code",
   "execution_count": 30,
   "outputs": [
    {
     "name": "stdout",
     "output_type": "stream",
     "text": [
      "  3/176 [..............................] - ETA: 12:39"
     ]
    },
    {
     "ename": "KeyboardInterrupt",
     "evalue": "",
     "output_type": "error",
     "traceback": [
      "\u001B[1;31m---------------------------------------------------------------------------\u001B[0m",
      "\u001B[1;31mKeyboardInterrupt\u001B[0m                         Traceback (most recent call last)",
      "\u001B[1;32m~\\AppData\\Local\\Temp\\ipykernel_1436\\1158719606.py\u001B[0m in \u001B[0;36m<module>\u001B[1;34m\u001B[0m\n\u001B[0;32m      1\u001B[0m \u001B[0mll_obj_detector\u001B[0m \u001B[1;33m=\u001B[0m \u001B[0mobject_detector\u001B[0m\u001B[1;33m.\u001B[0m\u001B[0mObjectDetector\u001B[0m\u001B[1;33m(\u001B[0m\u001B[0mmodel_spec\u001B[0m\u001B[1;33m=\u001B[0m\u001B[0mlow_latency_spec\u001B[0m\u001B[1;33m,\u001B[0m \u001B[0mlabel_map\u001B[0m\u001B[1;33m=\u001B[0m\u001B[0mtest_data\u001B[0m\u001B[1;33m.\u001B[0m\u001B[0mlabel_map\u001B[0m\u001B[1;33m)\u001B[0m\u001B[1;33m\u001B[0m\u001B[1;33m\u001B[0m\u001B[0m\n\u001B[1;32m----> 2\u001B[1;33m \u001B[0mll_obj_detector\u001B[0m\u001B[1;33m.\u001B[0m\u001B[0mevaluate_tflite\u001B[0m\u001B[1;33m(\u001B[0m\u001B[1;34m'll_model.tflite'\u001B[0m\u001B[1;33m,\u001B[0m \u001B[0mtest_data\u001B[0m\u001B[1;33m)\u001B[0m\u001B[1;33m\u001B[0m\u001B[1;33m\u001B[0m\u001B[0m\n\u001B[0m",
      "\u001B[1;32m~\\miniconda3\\envs\\set_solver\\lib\\site-packages\\tensorflow_examples\\lite\\model_maker\\core\\task\\object_detector.py\u001B[0m in \u001B[0;36mevaluate_tflite\u001B[1;34m(self, tflite_filepath, data)\u001B[0m\n\u001B[0;32m    154\u001B[0m     \u001B[0mds\u001B[0m \u001B[1;33m=\u001B[0m \u001B[0mdata\u001B[0m\u001B[1;33m.\u001B[0m\u001B[0mgen_dataset\u001B[0m\u001B[1;33m(\u001B[0m\u001B[0mself\u001B[0m\u001B[1;33m.\u001B[0m\u001B[0mmodel_spec\u001B[0m\u001B[1;33m,\u001B[0m \u001B[0mbatch_size\u001B[0m\u001B[1;33m=\u001B[0m\u001B[1;36m1\u001B[0m\u001B[1;33m,\u001B[0m \u001B[0mis_training\u001B[0m\u001B[1;33m=\u001B[0m\u001B[1;32mFalse\u001B[0m\u001B[1;33m)\u001B[0m\u001B[1;33m\u001B[0m\u001B[1;33m\u001B[0m\u001B[0m\n\u001B[0;32m    155\u001B[0m     return self.model_spec.evaluate_tflite(tflite_filepath, ds, len(data),\n\u001B[1;32m--> 156\u001B[1;33m                                            data.annotations_json_file)\n\u001B[0m\u001B[0;32m    157\u001B[0m \u001B[1;33m\u001B[0m\u001B[0m\n\u001B[0;32m    158\u001B[0m   \u001B[1;32mdef\u001B[0m \u001B[0m_export_saved_model\u001B[0m\u001B[1;33m(\u001B[0m\u001B[0mself\u001B[0m\u001B[1;33m,\u001B[0m \u001B[0msaved_model_dir\u001B[0m\u001B[1;33m:\u001B[0m \u001B[0mstr\u001B[0m\u001B[1;33m)\u001B[0m \u001B[1;33m->\u001B[0m \u001B[1;32mNone\u001B[0m\u001B[1;33m:\u001B[0m\u001B[1;33m\u001B[0m\u001B[1;33m\u001B[0m\u001B[0m\n",
      "\u001B[1;32m~\\miniconda3\\envs\\set_solver\\lib\\site-packages\\tensorflow_examples\\lite\\model_maker\\core\\task\\model_spec\\object_detector_spec.py\u001B[0m in \u001B[0;36mevaluate_tflite\u001B[1;34m(self, tflite_filepath, dataset, steps, json_file)\u001B[0m\n\u001B[0;32m    375\u001B[0m     \u001B[1;32mfor\u001B[0m \u001B[0mi\u001B[0m\u001B[1;33m,\u001B[0m \u001B[1;33m(\u001B[0m\u001B[0mimages\u001B[0m\u001B[1;33m,\u001B[0m \u001B[0mlabels\u001B[0m\u001B[1;33m)\u001B[0m \u001B[1;32min\u001B[0m \u001B[0menumerate\u001B[0m\u001B[1;33m(\u001B[0m\u001B[0mdataset\u001B[0m\u001B[1;33m)\u001B[0m\u001B[1;33m:\u001B[0m\u001B[1;33m\u001B[0m\u001B[1;33m\u001B[0m\u001B[0m\n\u001B[0;32m    376\u001B[0m       \u001B[1;31m# Get the output result after post-processing NMS op.\u001B[0m\u001B[1;33m\u001B[0m\u001B[1;33m\u001B[0m\u001B[1;33m\u001B[0m\u001B[0m\n\u001B[1;32m--> 377\u001B[1;33m       \u001B[0m_\u001B[0m\u001B[1;33m,\u001B[0m \u001B[0mnms_scores\u001B[0m\u001B[1;33m,\u001B[0m \u001B[0mnms_classes\u001B[0m\u001B[1;33m,\u001B[0m \u001B[0mnms_boxes\u001B[0m \u001B[1;33m=\u001B[0m \u001B[0mlite_runner\u001B[0m\u001B[1;33m.\u001B[0m\u001B[0mrun\u001B[0m\u001B[1;33m(\u001B[0m\u001B[0mimages\u001B[0m\u001B[1;33m)\u001B[0m\u001B[1;33m\u001B[0m\u001B[1;33m\u001B[0m\u001B[0m\n\u001B[0m\u001B[0;32m    378\u001B[0m \u001B[1;33m\u001B[0m\u001B[0m\n\u001B[0;32m    379\u001B[0m       \u001B[1;31m# CLASS_OFFSET is used since label_id for `background` is 0 in label_map\u001B[0m\u001B[1;33m\u001B[0m\u001B[1;33m\u001B[0m\u001B[1;33m\u001B[0m\u001B[0m\n",
      "\u001B[1;32m~\\miniconda3\\envs\\set_solver\\lib\\site-packages\\tensorflow_examples\\lite\\model_maker\\third_party\\efficientdet\\keras\\eval_tflite.py\u001B[0m in \u001B[0;36mrun\u001B[1;34m(self, image)\u001B[0m\n\u001B[0;32m     91\u001B[0m       \u001B[0mimage\u001B[0m \u001B[1;33m=\u001B[0m \u001B[0mnp\u001B[0m\u001B[1;33m.\u001B[0m\u001B[0marray\u001B[0m\u001B[1;33m(\u001B[0m\u001B[0mimage\u001B[0m\u001B[1;33m,\u001B[0m \u001B[0mdtype\u001B[0m\u001B[1;33m=\u001B[0m\u001B[0minput_detail\u001B[0m\u001B[1;33m[\u001B[0m\u001B[1;34m'dtype'\u001B[0m\u001B[1;33m]\u001B[0m\u001B[1;33m)\u001B[0m\u001B[1;33m\u001B[0m\u001B[1;33m\u001B[0m\u001B[0m\n\u001B[0;32m     92\u001B[0m \u001B[1;33m\u001B[0m\u001B[0m\n\u001B[1;32m---> 93\u001B[1;33m     \u001B[0moutput\u001B[0m \u001B[1;33m=\u001B[0m \u001B[0msignature_fn\u001B[0m\u001B[1;33m(\u001B[0m\u001B[0mimages\u001B[0m\u001B[1;33m=\u001B[0m\u001B[0mimage\u001B[0m\u001B[1;33m)\u001B[0m\u001B[1;33m\u001B[0m\u001B[1;33m\u001B[0m\u001B[0m\n\u001B[0m\u001B[0;32m     94\u001B[0m \u001B[1;33m\u001B[0m\u001B[0m\n\u001B[0;32m     95\u001B[0m     \u001B[1;32mdef\u001B[0m \u001B[0mget_output\u001B[0m\u001B[1;33m(\u001B[0m\u001B[0midx\u001B[0m\u001B[1;33m)\u001B[0m\u001B[1;33m:\u001B[0m\u001B[1;33m\u001B[0m\u001B[1;33m\u001B[0m\u001B[0m\n",
      "\u001B[1;32m~\\miniconda3\\envs\\set_solver\\lib\\site-packages\\tensorflow\\lite\\python\\interpreter.py\u001B[0m in \u001B[0;36m__call__\u001B[1;34m(self, **kwargs)\u001B[0m\n\u001B[0;32m    255\u001B[0m                                           self._subgraph_index)\n\u001B[0;32m    256\u001B[0m \u001B[1;33m\u001B[0m\u001B[0m\n\u001B[1;32m--> 257\u001B[1;33m     \u001B[0mself\u001B[0m\u001B[1;33m.\u001B[0m\u001B[0m_interpreter_wrapper\u001B[0m\u001B[1;33m.\u001B[0m\u001B[0mInvoke\u001B[0m\u001B[1;33m(\u001B[0m\u001B[0mself\u001B[0m\u001B[1;33m.\u001B[0m\u001B[0m_subgraph_index\u001B[0m\u001B[1;33m)\u001B[0m\u001B[1;33m\u001B[0m\u001B[1;33m\u001B[0m\u001B[0m\n\u001B[0m\u001B[0;32m    258\u001B[0m     \u001B[0mresult\u001B[0m \u001B[1;33m=\u001B[0m \u001B[1;33m{\u001B[0m\u001B[1;33m}\u001B[0m\u001B[1;33m\u001B[0m\u001B[1;33m\u001B[0m\u001B[0m\n\u001B[0;32m    259\u001B[0m     \u001B[1;32mfor\u001B[0m \u001B[0moutput_name\u001B[0m\u001B[1;33m,\u001B[0m \u001B[0moutput_index\u001B[0m \u001B[1;32min\u001B[0m \u001B[0mself\u001B[0m\u001B[1;33m.\u001B[0m\u001B[0m_outputs\u001B[0m\u001B[1;33m:\u001B[0m\u001B[1;33m\u001B[0m\u001B[1;33m\u001B[0m\u001B[0m\n",
      "\u001B[1;31mKeyboardInterrupt\u001B[0m: "
     ]
    }
   ],
   "source": [
    "ll_obj_detector = object_detector.ObjectDetector(model_spec=low_latency_spec, label_map=test_data.label_map)\n",
    "ll_obj_detector.evaluate_tflite('ll_model.tflite', test_data)"
   ],
   "metadata": {
    "collapsed": false,
    "ExecuteTime": {
     "end_time": "2023-10-04T19:16:57.534093Z",
     "start_time": "2023-10-04T19:16:39.545906200Z"
    }
   }
  },
  {
   "cell_type": "code",
   "execution_count": 32,
   "outputs": [
    {
     "ename": "AttributeError",
     "evalue": "'PrefetchDataset' object has no attribute 'gen_dataset'",
     "output_type": "error",
     "traceback": [
      "\u001B[1;31m---------------------------------------------------------------------------\u001B[0m",
      "\u001B[1;31mAttributeError\u001B[0m                            Traceback (most recent call last)",
      "\u001B[1;32m~\\AppData\\Local\\Temp\\ipykernel_1436\\386094724.py\u001B[0m in \u001B[0;36m<module>\u001B[1;34m\u001B[0m\n\u001B[0;32m      1\u001B[0m \u001B[0mhh_obj_detector\u001B[0m \u001B[1;33m=\u001B[0m \u001B[0mobject_detector\u001B[0m\u001B[1;33m.\u001B[0m\u001B[0mObjectDetector\u001B[0m\u001B[1;33m(\u001B[0m\u001B[0mmodel_spec\u001B[0m\u001B[1;33m=\u001B[0m\u001B[0mhigh_precision_spec\u001B[0m\u001B[1;33m,\u001B[0m \u001B[0mlabel_map\u001B[0m\u001B[1;33m=\u001B[0m\u001B[0mtest_data\u001B[0m\u001B[1;33m.\u001B[0m\u001B[0mlabel_map\u001B[0m\u001B[1;33m)\u001B[0m\u001B[1;33m\u001B[0m\u001B[1;33m\u001B[0m\u001B[0m\n\u001B[1;32m----> 2\u001B[1;33m \u001B[0mhh_obj_detector\u001B[0m\u001B[1;33m.\u001B[0m\u001B[0mevaluate_tflite\u001B[0m\u001B[1;33m(\u001B[0m\u001B[1;34m'hp_model.tflite'\u001B[0m\u001B[1;33m,\u001B[0m \u001B[0mtest_data\u001B[0m\u001B[1;33m.\u001B[0m\u001B[0mgen_dataset\u001B[0m\u001B[1;33m(\u001B[0m\u001B[0mmodel_spec\u001B[0m\u001B[1;33m=\u001B[0m\u001B[0mhigh_precision_spec\u001B[0m\u001B[1;33m,\u001B[0m \u001B[0mbatch_size\u001B[0m\u001B[1;33m=\u001B[0m\u001B[1;36m5\u001B[0m\u001B[1;33m)\u001B[0m\u001B[1;33m)\u001B[0m\u001B[1;33m\u001B[0m\u001B[1;33m\u001B[0m\u001B[0m\n\u001B[0m",
      "\u001B[1;32m~\\miniconda3\\envs\\set_solver\\lib\\site-packages\\tensorflow_examples\\lite\\model_maker\\core\\task\\object_detector.py\u001B[0m in \u001B[0;36mevaluate_tflite\u001B[1;34m(self, tflite_filepath, data)\u001B[0m\n\u001B[0;32m    152\u001B[0m       data: object_detector_dataloader.DataLoader) -> Dict[str, float]:\n\u001B[0;32m    153\u001B[0m     \u001B[1;34m\"\"\"Evaluate the TFLite model.\"\"\"\u001B[0m\u001B[1;33m\u001B[0m\u001B[1;33m\u001B[0m\u001B[0m\n\u001B[1;32m--> 154\u001B[1;33m     \u001B[0mds\u001B[0m \u001B[1;33m=\u001B[0m \u001B[0mdata\u001B[0m\u001B[1;33m.\u001B[0m\u001B[0mgen_dataset\u001B[0m\u001B[1;33m(\u001B[0m\u001B[0mself\u001B[0m\u001B[1;33m.\u001B[0m\u001B[0mmodel_spec\u001B[0m\u001B[1;33m,\u001B[0m \u001B[0mbatch_size\u001B[0m\u001B[1;33m=\u001B[0m\u001B[1;36m1\u001B[0m\u001B[1;33m,\u001B[0m \u001B[0mis_training\u001B[0m\u001B[1;33m=\u001B[0m\u001B[1;32mFalse\u001B[0m\u001B[1;33m)\u001B[0m\u001B[1;33m\u001B[0m\u001B[1;33m\u001B[0m\u001B[0m\n\u001B[0m\u001B[0;32m    155\u001B[0m     return self.model_spec.evaluate_tflite(tflite_filepath, ds, len(data),\n\u001B[0;32m    156\u001B[0m                                            data.annotations_json_file)\n",
      "\u001B[1;31mAttributeError\u001B[0m: 'PrefetchDataset' object has no attribute 'gen_dataset'"
     ]
    }
   ],
   "source": [
    "hh_obj_detector = object_detector.ObjectDetector(model_spec=high_precision_spec, label_map=test_data.label_map)\n",
    "hh_obj_detector.evaluate_tflite('hp_model.tflite', test_data)"
   ],
   "metadata": {
    "collapsed": false,
    "ExecuteTime": {
     "end_time": "2023-10-04T19:20:41.887830400Z",
     "start_time": "2023-10-04T19:20:41.405714Z"
    }
   }
  },
  {
   "cell_type": "markdown",
   "source": [
    "### Running Model"
   ],
   "metadata": {
    "collapsed": false
   }
  },
  {
   "cell_type": "code",
   "execution_count": 23,
   "outputs": [],
   "source": [
    "from imageio import imread"
   ],
   "metadata": {
    "collapsed": false,
    "ExecuteTime": {
     "end_time": "2023-10-04T15:13:55.068160500Z",
     "start_time": "2023-10-04T15:13:55.038160900Z"
    }
   }
  },
  {
   "cell_type": "code",
   "execution_count": 27,
   "outputs": [
    {
     "ename": "ValueError",
     "evalue": "Cannot set tensor: Dimension mismatch. Got 3 but expected 320 for dimension 1 of input 0.",
     "output_type": "error",
     "traceback": [
      "\u001B[1;31m---------------------------------------------------------------------------\u001B[0m",
      "\u001B[1;31mValueError\u001B[0m                                Traceback (most recent call last)",
      "\u001B[1;32m~\\AppData\\Local\\Temp\\ipykernel_1436\\203135666.py\u001B[0m in \u001B[0;36m<module>\u001B[1;34m\u001B[0m\n\u001B[0;32m     10\u001B[0m \u001B[0minput_shape\u001B[0m \u001B[1;33m=\u001B[0m \u001B[0minput_details\u001B[0m\u001B[1;33m[\u001B[0m\u001B[1;36m0\u001B[0m\u001B[1;33m]\u001B[0m\u001B[1;33m[\u001B[0m\u001B[1;34m'shape'\u001B[0m\u001B[1;33m]\u001B[0m\u001B[1;33m\u001B[0m\u001B[1;33m\u001B[0m\u001B[0m\n\u001B[0;32m     11\u001B[0m \u001B[0minput_data\u001B[0m \u001B[1;33m=\u001B[0m \u001B[0mnp\u001B[0m\u001B[1;33m.\u001B[0m\u001B[0masarray\u001B[0m\u001B[1;33m(\u001B[0m\u001B[0mimread\u001B[0m\u001B[1;33m(\u001B[0m\u001B[1;34m'dataSET/one/green/diamond/empty/2.png'\u001B[0m\u001B[1;33m)\u001B[0m\u001B[1;33m)\u001B[0m\u001B[1;33m\u001B[0m\u001B[1;33m\u001B[0m\u001B[0m\n\u001B[1;32m---> 12\u001B[1;33m \u001B[0minterpreter\u001B[0m\u001B[1;33m.\u001B[0m\u001B[0mset_tensor\u001B[0m\u001B[1;33m(\u001B[0m\u001B[0minput_details\u001B[0m\u001B[1;33m[\u001B[0m\u001B[1;36m0\u001B[0m\u001B[1;33m]\u001B[0m\u001B[1;33m[\u001B[0m\u001B[1;34m'index'\u001B[0m\u001B[1;33m]\u001B[0m\u001B[1;33m,\u001B[0m \u001B[1;33m[\u001B[0m\u001B[0minput_data\u001B[0m\u001B[1;33m.\u001B[0m\u001B[0mT\u001B[0m\u001B[1;33m]\u001B[0m\u001B[1;33m)\u001B[0m\u001B[1;33m\u001B[0m\u001B[1;33m\u001B[0m\u001B[0m\n\u001B[0m\u001B[0;32m     13\u001B[0m \u001B[1;33m\u001B[0m\u001B[0m\n\u001B[0;32m     14\u001B[0m \u001B[0minterpreter\u001B[0m\u001B[1;33m.\u001B[0m\u001B[0minvoke\u001B[0m\u001B[1;33m(\u001B[0m\u001B[1;33m)\u001B[0m\u001B[1;33m\u001B[0m\u001B[1;33m\u001B[0m\u001B[0m\n",
      "\u001B[1;32m~\\miniconda3\\envs\\set_solver\\lib\\site-packages\\tensorflow\\lite\\python\\interpreter.py\u001B[0m in \u001B[0;36mset_tensor\u001B[1;34m(self, tensor_index, value)\u001B[0m\n\u001B[0;32m    695\u001B[0m       \u001B[0mValueError\u001B[0m\u001B[1;33m:\u001B[0m \u001B[0mIf\u001B[0m \u001B[0mthe\u001B[0m \u001B[0minterpreter\u001B[0m \u001B[0mcould\u001B[0m \u001B[1;32mnot\u001B[0m \u001B[0mset\u001B[0m \u001B[0mthe\u001B[0m \u001B[0mtensor\u001B[0m\u001B[1;33m.\u001B[0m\u001B[1;33m\u001B[0m\u001B[1;33m\u001B[0m\u001B[0m\n\u001B[0;32m    696\u001B[0m     \"\"\"\n\u001B[1;32m--> 697\u001B[1;33m     \u001B[0mself\u001B[0m\u001B[1;33m.\u001B[0m\u001B[0m_interpreter\u001B[0m\u001B[1;33m.\u001B[0m\u001B[0mSetTensor\u001B[0m\u001B[1;33m(\u001B[0m\u001B[0mtensor_index\u001B[0m\u001B[1;33m,\u001B[0m \u001B[0mvalue\u001B[0m\u001B[1;33m)\u001B[0m\u001B[1;33m\u001B[0m\u001B[1;33m\u001B[0m\u001B[0m\n\u001B[0m\u001B[0;32m    698\u001B[0m \u001B[1;33m\u001B[0m\u001B[0m\n\u001B[0;32m    699\u001B[0m   \u001B[1;32mdef\u001B[0m \u001B[0mresize_tensor_input\u001B[0m\u001B[1;33m(\u001B[0m\u001B[0mself\u001B[0m\u001B[1;33m,\u001B[0m \u001B[0minput_index\u001B[0m\u001B[1;33m,\u001B[0m \u001B[0mtensor_size\u001B[0m\u001B[1;33m,\u001B[0m \u001B[0mstrict\u001B[0m\u001B[1;33m=\u001B[0m\u001B[1;32mFalse\u001B[0m\u001B[1;33m)\u001B[0m\u001B[1;33m:\u001B[0m\u001B[1;33m\u001B[0m\u001B[1;33m\u001B[0m\u001B[0m\n",
      "\u001B[1;31mValueError\u001B[0m: Cannot set tensor: Dimension mismatch. Got 3 but expected 320 for dimension 1 of input 0."
     ]
    }
   ],
   "source": [
    "# Load TFLite model and allocate tensors.\n",
    "interpreter = tf.lite.Interpreter(model_path=\"ll_model.tflite\")\n",
    "interpreter.allocate_tensors()\n",
    "\n",
    "# Get input and output tensors.\n",
    "input_details = interpreter.get_input_details()\n",
    "output_details = interpreter.get_output_details()\n",
    "\n",
    "# Test model on random input data.\n",
    "input_shape = input_details[0]['shape']\n",
    "input_data = np.asarray(imread('dataSET/one/green/diamond/empty/2.png'))\n",
    "interpreter.set_tensor(input_details[0]['index'], [input_data])\n",
    "\n",
    "interpreter.invoke()\n",
    "\n",
    "# The function `get_tensor()` returns a copy of the tensor data.\n",
    "# Use `tensor()` in order to get a pointer to the tensor.\n",
    "output_data = interpreter.get_tensor(output_details[0]['index'])\n",
    "print(output_data)"
   ],
   "metadata": {
    "collapsed": false,
    "ExecuteTime": {
     "end_time": "2023-10-04T15:17:35.482770500Z",
     "start_time": "2023-10-04T15:17:35.452770600Z"
    }
   }
  }
 ],
 "metadata": {
  "kernelspec": {
   "display_name": "Python 3",
   "language": "python",
   "name": "python3"
  },
  "language_info": {
   "codemirror_mode": {
    "name": "ipython",
    "version": 2
   },
   "file_extension": ".py",
   "mimetype": "text/x-python",
   "name": "python",
   "nbconvert_exporter": "python",
   "pygments_lexer": "ipython2",
   "version": "2.7.6"
  }
 },
 "nbformat": 4,
 "nbformat_minor": 0
}
